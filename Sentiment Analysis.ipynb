{
 "cells": [
  {
   "cell_type": "code",
   "execution_count": 111,
   "id": "a73fbe2b",
   "metadata": {},
   "outputs": [],
   "source": [
    "import pandas as pd\n",
    "import re\n",
    "import seaborn\n",
    "import matplotlib.pyplot as plt\n",
    "from textblob import TextBlob\n",
    "from nltk.tokenize import word_tokenize\n",
    "from nltk.stem import PorterStemmer\n",
    "from nltk.corpus import stopwords\n",
    "stop_words = set(stopwords.words('english'))\n",
    "from wordcloud import WordCloud"
   ]
  },
  {
   "cell_type": "code",
   "execution_count": 112,
   "id": "32400109",
   "metadata": {},
   "outputs": [
    {
     "data": {
      "text/html": [
       "<div>\n",
       "<style scoped>\n",
       "    .dataframe tbody tr th:only-of-type {\n",
       "        vertical-align: middle;\n",
       "    }\n",
       "\n",
       "    .dataframe tbody tr th {\n",
       "        vertical-align: top;\n",
       "    }\n",
       "\n",
       "    .dataframe thead th {\n",
       "        text-align: right;\n",
       "    }\n",
       "</style>\n",
       "<table border=\"1\" class=\"dataframe\">\n",
       "  <thead>\n",
       "    <tr style=\"text-align: right;\">\n",
       "      <th></th>\n",
       "      <th>created_at</th>\n",
       "      <th>text</th>\n",
       "      <th>url</th>\n",
       "      <th>replies</th>\n",
       "      <th>retweets</th>\n",
       "      <th>favorites</th>\n",
       "      <th>user</th>\n",
       "    </tr>\n",
       "  </thead>\n",
       "  <tbody>\n",
       "    <tr>\n",
       "      <th>0</th>\n",
       "      <td>10/16/17 22:59</td>\n",
       "      <td>I'm grateful to @SenJohnMcCain for his lifetim...</td>\n",
       "      <td>https://twitter.com/BarackObama/status/9200615...</td>\n",
       "      <td>17064</td>\n",
       "      <td>89916</td>\n",
       "      <td>641842</td>\n",
       "      <td>BarackObama</td>\n",
       "    </tr>\n",
       "    <tr>\n",
       "      <th>1</th>\n",
       "      <td>10/2/17 12:41</td>\n",
       "      <td>Michelle &amp;amp; I are praying for the victims i...</td>\n",
       "      <td>https://twitter.com/BarackObama/status/9148326...</td>\n",
       "      <td>21588</td>\n",
       "      <td>405895</td>\n",
       "      <td>1715753</td>\n",
       "      <td>BarackObama</td>\n",
       "    </tr>\n",
       "    <tr>\n",
       "      <th>2</th>\n",
       "      <td>9/30/17 2:22</td>\n",
       "      <td>Proud to cheer on Team USA at the Invictus Gam...</td>\n",
       "      <td>https://twitter.com/BarackObama/status/9139520...</td>\n",
       "      <td>8476</td>\n",
       "      <td>60651</td>\n",
       "      <td>503255</td>\n",
       "      <td>BarackObama</td>\n",
       "    </tr>\n",
       "    <tr>\n",
       "      <th>3</th>\n",
       "      <td>9/26/17 17:03</td>\n",
       "      <td>We're expanding our efforts to help Puerto Ric...</td>\n",
       "      <td>https://twitter.com/BarackObama/status/9127244...</td>\n",
       "      <td>10657</td>\n",
       "      <td>113807</td>\n",
       "      <td>334901</td>\n",
       "      <td>BarackObama</td>\n",
       "    </tr>\n",
       "    <tr>\n",
       "      <th>4</th>\n",
       "      <td>9/25/17 23:36</td>\n",
       "      <td>Prosecutor, soldier, family man, citizen. Beau...</td>\n",
       "      <td>https://twitter.com/BarackObama/status/9124608...</td>\n",
       "      <td>3886</td>\n",
       "      <td>58449</td>\n",
       "      <td>328106</td>\n",
       "      <td>BarackObama</td>\n",
       "    </tr>\n",
       "  </tbody>\n",
       "</table>\n",
       "</div>"
      ],
      "text/plain": [
       "       created_at                                               text  \\\n",
       "0  10/16/17 22:59  I'm grateful to @SenJohnMcCain for his lifetim...   \n",
       "1   10/2/17 12:41  Michelle &amp; I are praying for the victims i...   \n",
       "2    9/30/17 2:22  Proud to cheer on Team USA at the Invictus Gam...   \n",
       "3   9/26/17 17:03  We're expanding our efforts to help Puerto Ric...   \n",
       "4   9/25/17 23:36  Prosecutor, soldier, family man, citizen. Beau...   \n",
       "\n",
       "                                                 url  replies  retweets  \\\n",
       "0  https://twitter.com/BarackObama/status/9200615...    17064     89916   \n",
       "1  https://twitter.com/BarackObama/status/9148326...    21588    405895   \n",
       "2  https://twitter.com/BarackObama/status/9139520...     8476     60651   \n",
       "3  https://twitter.com/BarackObama/status/9127244...    10657    113807   \n",
       "4  https://twitter.com/BarackObama/status/9124608...     3886     58449   \n",
       "\n",
       "   favorites         user  \n",
       "0     641842  BarackObama  \n",
       "1    1715753  BarackObama  \n",
       "2     503255  BarackObama  \n",
       "3     334901  BarackObama  \n",
       "4     328106  BarackObama  "
      ]
     },
     "execution_count": 112,
     "metadata": {},
     "output_type": "execute_result"
    }
   ],
   "source": [
    "text = pd.read_csv('tweet obama.csv') # read csv file\n",
    "text.head()"
   ]
  },
  {
   "cell_type": "markdown",
   "id": "36a887fc",
   "metadata": {},
   "source": [
    "### Data Preprocessing "
   ]
  },
  {
   "cell_type": "code",
   "execution_count": 113,
   "id": "64b74fd7",
   "metadata": {},
   "outputs": [
    {
     "data": {
      "text/plain": [
       "created_at    0\n",
       "text          0\n",
       "url           0\n",
       "replies       0\n",
       "retweets      0\n",
       "favorites     0\n",
       "user          0\n",
       "dtype: int64"
      ]
     },
     "execution_count": 113,
     "metadata": {},
     "output_type": "execute_result"
    }
   ],
   "source": [
    "# check null values\n",
    "\n",
    "text.isnull().sum()"
   ]
  },
  {
   "cell_type": "code",
   "execution_count": 114,
   "id": "0f978554",
   "metadata": {},
   "outputs": [
    {
     "data": {
      "text/html": [
       "<div>\n",
       "<style scoped>\n",
       "    .dataframe tbody tr th:only-of-type {\n",
       "        vertical-align: middle;\n",
       "    }\n",
       "\n",
       "    .dataframe tbody tr th {\n",
       "        vertical-align: top;\n",
       "    }\n",
       "\n",
       "    .dataframe thead th {\n",
       "        text-align: right;\n",
       "    }\n",
       "</style>\n",
       "<table border=\"1\" class=\"dataframe\">\n",
       "  <thead>\n",
       "    <tr style=\"text-align: right;\">\n",
       "      <th></th>\n",
       "      <th>text</th>\n",
       "    </tr>\n",
       "  </thead>\n",
       "  <tbody>\n",
       "    <tr>\n",
       "      <th>0</th>\n",
       "      <td>I'm grateful to @SenJohnMcCain for his lifetim...</td>\n",
       "    </tr>\n",
       "    <tr>\n",
       "      <th>1</th>\n",
       "      <td>Michelle &amp;amp; I are praying for the victims i...</td>\n",
       "    </tr>\n",
       "    <tr>\n",
       "      <th>2</th>\n",
       "      <td>Proud to cheer on Team USA at the Invictus Gam...</td>\n",
       "    </tr>\n",
       "    <tr>\n",
       "      <th>3</th>\n",
       "      <td>We're expanding our efforts to help Puerto Ric...</td>\n",
       "    </tr>\n",
       "    <tr>\n",
       "      <th>4</th>\n",
       "      <td>Prosecutor, soldier, family man, citizen. Beau...</td>\n",
       "    </tr>\n",
       "  </tbody>\n",
       "</table>\n",
       "</div>"
      ],
      "text/plain": [
       "                                                text\n",
       "0  I'm grateful to @SenJohnMcCain for his lifetim...\n",
       "1  Michelle &amp; I are praying for the victims i...\n",
       "2  Proud to cheer on Team USA at the Invictus Gam...\n",
       "3  We're expanding our efforts to help Puerto Ric...\n",
       "4  Prosecutor, soldier, family man, citizen. Beau..."
      ]
     },
     "execution_count": 114,
     "metadata": {},
     "output_type": "execute_result"
    }
   ],
   "source": [
    "# drop unnecessary files\n",
    "\n",
    "df = text.drop(['created_at', 'url', 'replies', 'retweets', 'favorites', 'user'], axis=1)\n",
    "df.head()"
   ]
  },
  {
   "cell_type": "markdown",
   "id": "f4bc3e69",
   "metadata": {},
   "source": [
    "### Data Cleaning"
   ]
  },
  {
   "cell_type": "code",
   "execution_count": 115,
   "id": "396a4b7a",
   "metadata": {},
   "outputs": [],
   "source": [
    "# data cleaning \n",
    "\n",
    "def data_processing(text):\n",
    "    text = text.lower()\n",
    "    text = re.sub(r\"https\\S+|www\\S+https\\S+\", '',text, flags=re.MULTILINE) # remove URLs\n",
    "    text = re.sub(r'\\@w+|\\#','',text) # remove special characters like @ and #\n",
    "    text = re.sub(r'[^\\w\\s]','',text) # remove punctuation\n",
    "    tokens = word_tokenize(text) # tokenize the text into words\n",
    "    custom_stopwords = set(['https', 'http'])  # custom stopwords \n",
    "    filtered_tokens = [word for word in tokens if word not in stop_words and word not in custom_stopwords]\n",
    "    filtered_text = [w for w in filtered_tokens if not w in stop_words]\n",
    "    return \" \".join(filtered_text)"
   ]
  },
  {
   "cell_type": "code",
   "execution_count": 116,
   "id": "f2ee6335",
   "metadata": {},
   "outputs": [],
   "source": [
    "df['cleaned text'] = df.text.apply(data_processing)"
   ]
  },
  {
   "cell_type": "code",
   "execution_count": 117,
   "id": "c7550001",
   "metadata": {},
   "outputs": [
    {
     "data": {
      "text/html": [
       "<div>\n",
       "<style scoped>\n",
       "    .dataframe tbody tr th:only-of-type {\n",
       "        vertical-align: middle;\n",
       "    }\n",
       "\n",
       "    .dataframe tbody tr th {\n",
       "        vertical-align: top;\n",
       "    }\n",
       "\n",
       "    .dataframe thead th {\n",
       "        text-align: right;\n",
       "    }\n",
       "</style>\n",
       "<table border=\"1\" class=\"dataframe\">\n",
       "  <thead>\n",
       "    <tr style=\"text-align: right;\">\n",
       "      <th></th>\n",
       "      <th>text</th>\n",
       "      <th>cleaned text</th>\n",
       "    </tr>\n",
       "  </thead>\n",
       "  <tbody>\n",
       "    <tr>\n",
       "      <th>0</th>\n",
       "      <td>I'm grateful to @SenJohnMcCain for his lifetim...</td>\n",
       "      <td>im grateful senjohnmccain lifetime service cou...</td>\n",
       "    </tr>\n",
       "    <tr>\n",
       "      <th>1</th>\n",
       "      <td>Michelle &amp;amp; I are praying for the victims i...</td>\n",
       "      <td>michelle amp praying victims las vegas thought...</td>\n",
       "    </tr>\n",
       "    <tr>\n",
       "      <th>2</th>\n",
       "      <td>Proud to cheer on Team USA at the Invictus Gam...</td>\n",
       "      <td>proud cheer team usa invictus games today frie...</td>\n",
       "    </tr>\n",
       "    <tr>\n",
       "      <th>3</th>\n",
       "      <td>We're expanding our efforts to help Puerto Ric...</td>\n",
       "      <td>expanding efforts help puerto rico amp usvi fe...</td>\n",
       "    </tr>\n",
       "    <tr>\n",
       "      <th>4</th>\n",
       "      <td>Prosecutor, soldier, family man, citizen. Beau...</td>\n",
       "      <td>prosecutor soldier family man citizen beau mad...</td>\n",
       "    </tr>\n",
       "  </tbody>\n",
       "</table>\n",
       "</div>"
      ],
      "text/plain": [
       "                                                text  \\\n",
       "0  I'm grateful to @SenJohnMcCain for his lifetim...   \n",
       "1  Michelle &amp; I are praying for the victims i...   \n",
       "2  Proud to cheer on Team USA at the Invictus Gam...   \n",
       "3  We're expanding our efforts to help Puerto Ric...   \n",
       "4  Prosecutor, soldier, family man, citizen. Beau...   \n",
       "\n",
       "                                        cleaned text  \n",
       "0  im grateful senjohnmccain lifetime service cou...  \n",
       "1  michelle amp praying victims las vegas thought...  \n",
       "2  proud cheer team usa invictus games today frie...  \n",
       "3  expanding efforts help puerto rico amp usvi fe...  \n",
       "4  prosecutor soldier family man citizen beau mad...  "
      ]
     },
     "execution_count": 117,
     "metadata": {},
     "output_type": "execute_result"
    }
   ],
   "source": [
    "df.head()"
   ]
  },
  {
   "cell_type": "code",
   "execution_count": 118,
   "id": "6d3a48e5",
   "metadata": {},
   "outputs": [
    {
     "name": "stdout",
     "output_type": "stream",
     "text": [
      "im grateful senjohnmccain lifetime service country congratulations john receiving years liberty medal \n",
      "\n",
      "michelle amp praying victims las vegas thoughts families amp everyone enduring another senseless tragedy \n",
      "\n"
     ]
    }
   ],
   "source": [
    "print(df['cleaned text'].iloc[0], \"\\n\")\n",
    "print(df['cleaned text'].iloc[1], \"\\n\")"
   ]
  },
  {
   "cell_type": "code",
   "execution_count": 119,
   "id": "e2e25bdf",
   "metadata": {},
   "outputs": [],
   "source": [
    "# tokenize the text data\n",
    "\n",
    "df['tokenize_text'] = df['cleaned text'].apply(word_tokenize)"
   ]
  },
  {
   "cell_type": "markdown",
   "id": "9844bdad",
   "metadata": {},
   "source": [
    "#### infrequent or rare words are noisy. They don't contain valuable information."
   ]
  },
  {
   "cell_type": "code",
   "execution_count": 120,
   "id": "5823ace2",
   "metadata": {},
   "outputs": [
    {
     "data": {
      "text/html": [
       "<div>\n",
       "<style scoped>\n",
       "    .dataframe tbody tr th:only-of-type {\n",
       "        vertical-align: middle;\n",
       "    }\n",
       "\n",
       "    .dataframe tbody tr th {\n",
       "        vertical-align: top;\n",
       "    }\n",
       "\n",
       "    .dataframe thead th {\n",
       "        text-align: right;\n",
       "    }\n",
       "</style>\n",
       "<table border=\"1\" class=\"dataframe\">\n",
       "  <thead>\n",
       "    <tr style=\"text-align: right;\">\n",
       "      <th></th>\n",
       "      <th>text</th>\n",
       "      <th>cleaned text</th>\n",
       "      <th>tokenize_text</th>\n",
       "      <th>rmv_infrequent</th>\n",
       "    </tr>\n",
       "  </thead>\n",
       "  <tbody>\n",
       "    <tr>\n",
       "      <th>0</th>\n",
       "      <td>I'm grateful to @SenJohnMcCain for his lifetim...</td>\n",
       "      <td>im grateful senjohnmccain lifetime service cou...</td>\n",
       "      <td>[im, grateful, senjohnmccain, lifetime, servic...</td>\n",
       "      <td>grateful senjohnmccain lifetime service countr...</td>\n",
       "    </tr>\n",
       "    <tr>\n",
       "      <th>1</th>\n",
       "      <td>Michelle &amp;amp; I are praying for the victims i...</td>\n",
       "      <td>michelle amp praying victims las vegas thought...</td>\n",
       "      <td>[michelle, amp, praying, victims, las, vegas, ...</td>\n",
       "      <td>michelle amp praying victims las vegas thought...</td>\n",
       "    </tr>\n",
       "    <tr>\n",
       "      <th>2</th>\n",
       "      <td>Proud to cheer on Team USA at the Invictus Gam...</td>\n",
       "      <td>proud cheer team usa invictus games today frie...</td>\n",
       "      <td>[proud, cheer, team, usa, invictus, games, tod...</td>\n",
       "      <td>proud cheer team usa invictus games today frie...</td>\n",
       "    </tr>\n",
       "    <tr>\n",
       "      <th>3</th>\n",
       "      <td>We're expanding our efforts to help Puerto Ric...</td>\n",
       "      <td>expanding efforts help puerto rico amp usvi fe...</td>\n",
       "      <td>[expanding, efforts, help, puerto, rico, amp, ...</td>\n",
       "      <td>expanding efforts help puerto rico amp usvi fe...</td>\n",
       "    </tr>\n",
       "    <tr>\n",
       "      <th>4</th>\n",
       "      <td>Prosecutor, soldier, family man, citizen. Beau...</td>\n",
       "      <td>prosecutor soldier family man citizen beau mad...</td>\n",
       "      <td>[prosecutor, soldier, family, man, citizen, be...</td>\n",
       "      <td>prosecutor soldier family man citizen beau mad...</td>\n",
       "    </tr>\n",
       "  </tbody>\n",
       "</table>\n",
       "</div>"
      ],
      "text/plain": [
       "                                                text  \\\n",
       "0  I'm grateful to @SenJohnMcCain for his lifetim...   \n",
       "1  Michelle &amp; I are praying for the victims i...   \n",
       "2  Proud to cheer on Team USA at the Invictus Gam...   \n",
       "3  We're expanding our efforts to help Puerto Ric...   \n",
       "4  Prosecutor, soldier, family man, citizen. Beau...   \n",
       "\n",
       "                                        cleaned text  \\\n",
       "0  im grateful senjohnmccain lifetime service cou...   \n",
       "1  michelle amp praying victims las vegas thought...   \n",
       "2  proud cheer team usa invictus games today frie...   \n",
       "3  expanding efforts help puerto rico amp usvi fe...   \n",
       "4  prosecutor soldier family man citizen beau mad...   \n",
       "\n",
       "                                       tokenize_text  \\\n",
       "0  [im, grateful, senjohnmccain, lifetime, servic...   \n",
       "1  [michelle, amp, praying, victims, las, vegas, ...   \n",
       "2  [proud, cheer, team, usa, invictus, games, tod...   \n",
       "3  [expanding, efforts, help, puerto, rico, amp, ...   \n",
       "4  [prosecutor, soldier, family, man, citizen, be...   \n",
       "\n",
       "                                      rmv_infrequent  \n",
       "0  grateful senjohnmccain lifetime service countr...  \n",
       "1  michelle amp praying victims las vegas thought...  \n",
       "2  proud cheer team usa invictus games today frie...  \n",
       "3  expanding efforts help puerto rico amp usvi fe...  \n",
       "4  prosecutor soldier family man citizen beau mad...  "
      ]
     },
     "execution_count": 120,
     "metadata": {},
     "output_type": "execute_result"
    }
   ],
   "source": [
    "df['rmv_infrequent'] = df['tokenize_text'].apply(lambda x: ' '.join([item for item in x if len(item)>2]))\n",
    "df.head()"
   ]
  },
  {
   "cell_type": "code",
   "execution_count": null,
   "id": "6fcd4470",
   "metadata": {},
   "outputs": [],
   "source": []
  },
  {
   "cell_type": "markdown",
   "id": "b84083f2",
   "metadata": {},
   "source": [
    "### after remove rare or infrequent words, join all the words for frequency distributions"
   ]
  },
  {
   "cell_type": "code",
   "execution_count": 121,
   "id": "9f33ca65",
   "metadata": {},
   "outputs": [],
   "source": [
    "all_words = ' '.join([word for word in df['rmv_infrequent']])"
   ]
  },
  {
   "cell_type": "code",
   "execution_count": 122,
   "id": "eb6a74de",
   "metadata": {},
   "outputs": [
    {
     "data": {
      "text/plain": [
       "FreqDist({'president': 1209, 'obama': 1069, 'actonclimate': 294, 'change': 215, 'watch': 207, 'hitehouse': 201, 'climate': 201, 'time': 174, 'health': 170, 'americans': 158, ...})"
      ]
     },
     "execution_count": 122,
     "metadata": {},
     "output_type": "execute_result"
    }
   ],
   "source": [
    "from nltk.probability import FreqDist\n",
    "\n",
    "tokenize = nltk.tokenize.word_tokenize(all_words)\n",
    "frequency_distribution = FreqDist(tokenize)\n",
    "frequency_distribution"
   ]
  },
  {
   "cell_type": "code",
   "execution_count": null,
   "id": "b7a115b9",
   "metadata": {},
   "outputs": [],
   "source": []
  },
  {
   "cell_type": "code",
   "execution_count": null,
   "id": "beea3973",
   "metadata": {},
   "outputs": [],
   "source": []
  },
  {
   "cell_type": "code",
   "execution_count": 123,
   "id": "9dcf91e7",
   "metadata": {},
   "outputs": [],
   "source": [
    "df['drop_words'] = df['tokenize_text'].apply(lambda x: ' '.join(word for word in x if frequency_distribution[word]>3))"
   ]
  },
  {
   "cell_type": "code",
   "execution_count": 124,
   "id": "567cff9c",
   "metadata": {},
   "outputs": [
    {
     "name": "stdout",
     "output_type": "stream",
     "text": [
      "grateful service country congratulations john years \n",
      "\n",
      "michelle amp victims thoughts families amp everyone another \n",
      "\n",
      "proud team games today friend joe best country \n",
      "\n"
     ]
    }
   ],
   "source": [
    "print(df['drop_words'].iloc[0], \"\\n\")\n",
    "print(df['drop_words'].iloc[1], \"\\n\")\n",
    "print(df['drop_words'].iloc[2], \"\\n\")"
   ]
  },
  {
   "cell_type": "code",
   "execution_count": null,
   "id": "8b19121f",
   "metadata": {},
   "outputs": [],
   "source": []
  },
  {
   "cell_type": "markdown",
   "id": "355a3c01",
   "metadata": {},
   "source": [
    "### Normalize text\n",
    " Now we have to normalize our text using NLP techniques. In this case we can use 'Lemmatization'"
   ]
  },
  {
   "cell_type": "code",
   "execution_count": 125,
   "id": "12cdfea4",
   "metadata": {},
   "outputs": [],
   "source": [
    "from nltk.stem import WordNetLemmatizer\n",
    "lemma = WordNetLemmatizer()\n",
    "\n",
    "df['lemmatize_words'] = df['drop_words'].apply(lemma.lemmatize)\n"
   ]
  },
  {
   "cell_type": "code",
   "execution_count": 126,
   "id": "05996894",
   "metadata": {},
   "outputs": [
    {
     "name": "stdout",
     "output_type": "stream",
     "text": [
      "grateful service country congratulations john years \n",
      "\n",
      "michelle amp victims thoughts families amp everyone another \n",
      "\n",
      "proud team games today friend joe best country \n",
      "\n"
     ]
    }
   ],
   "source": [
    "print(df['lemmatize_words'].iloc[0], \"\\n\")\n",
    "print(df['lemmatize_words'].iloc[1], \"\\n\")\n",
    "print(df['lemmatize_words'].iloc[2], \"\\n\")"
   ]
  },
  {
   "cell_type": "code",
   "execution_count": null,
   "id": "5e870c26",
   "metadata": {},
   "outputs": [],
   "source": []
  },
  {
   "cell_type": "markdown",
   "id": "41b5b3c0",
   "metadata": {},
   "source": [
    "#### TextBLob is a python library, with a strong focus on sentiment analysis."
   ]
  },
  {
   "cell_type": "code",
   "execution_count": 127,
   "id": "2d34b4b6",
   "metadata": {},
   "outputs": [],
   "source": [
    "def polarity(text):\n",
    "    # polarity: A value between -1 (negative) and 1 (positive) indicating overall sentiment.\n",
    "    return TextBlob(text).sentiment.polarity"
   ]
  },
  {
   "cell_type": "code",
   "execution_count": 128,
   "id": "fa69e6c3",
   "metadata": {},
   "outputs": [],
   "source": [
    "df['polarity'] = df['drop_words'].apply(polarity)"
   ]
  },
  {
   "cell_type": "code",
   "execution_count": 129,
   "id": "da7c5223",
   "metadata": {},
   "outputs": [
    {
     "data": {
      "text/html": [
       "<div>\n",
       "<style scoped>\n",
       "    .dataframe tbody tr th:only-of-type {\n",
       "        vertical-align: middle;\n",
       "    }\n",
       "\n",
       "    .dataframe tbody tr th {\n",
       "        vertical-align: top;\n",
       "    }\n",
       "\n",
       "    .dataframe thead th {\n",
       "        text-align: right;\n",
       "    }\n",
       "</style>\n",
       "<table border=\"1\" class=\"dataframe\">\n",
       "  <thead>\n",
       "    <tr style=\"text-align: right;\">\n",
       "      <th></th>\n",
       "      <th>text</th>\n",
       "      <th>cleaned text</th>\n",
       "      <th>tokenize_text</th>\n",
       "      <th>rmv_infrequent</th>\n",
       "      <th>drop_words</th>\n",
       "      <th>lemmatize_words</th>\n",
       "      <th>polarity</th>\n",
       "    </tr>\n",
       "  </thead>\n",
       "  <tbody>\n",
       "    <tr>\n",
       "      <th>0</th>\n",
       "      <td>I'm grateful to @SenJohnMcCain for his lifetim...</td>\n",
       "      <td>im grateful senjohnmccain lifetime service cou...</td>\n",
       "      <td>[im, grateful, senjohnmccain, lifetime, servic...</td>\n",
       "      <td>grateful senjohnmccain lifetime service countr...</td>\n",
       "      <td>grateful service country congratulations john ...</td>\n",
       "      <td>grateful service country congratulations john ...</td>\n",
       "      <td>0.000000</td>\n",
       "    </tr>\n",
       "    <tr>\n",
       "      <th>1</th>\n",
       "      <td>Michelle &amp;amp; I are praying for the victims i...</td>\n",
       "      <td>michelle amp praying victims las vegas thought...</td>\n",
       "      <td>[michelle, amp, praying, victims, las, vegas, ...</td>\n",
       "      <td>michelle amp praying victims las vegas thought...</td>\n",
       "      <td>michelle amp victims thoughts families amp eve...</td>\n",
       "      <td>michelle amp victims thoughts families amp eve...</td>\n",
       "      <td>0.000000</td>\n",
       "    </tr>\n",
       "    <tr>\n",
       "      <th>2</th>\n",
       "      <td>Proud to cheer on Team USA at the Invictus Gam...</td>\n",
       "      <td>proud cheer team usa invictus games today frie...</td>\n",
       "      <td>[proud, cheer, team, usa, invictus, games, tod...</td>\n",
       "      <td>proud cheer team usa invictus games today frie...</td>\n",
       "      <td>proud team games today friend joe best country</td>\n",
       "      <td>proud team games today friend joe best country</td>\n",
       "      <td>0.900000</td>\n",
       "    </tr>\n",
       "    <tr>\n",
       "      <th>3</th>\n",
       "      <td>We're expanding our efforts to help Puerto Ric...</td>\n",
       "      <td>expanding efforts help puerto rico amp usvi fe...</td>\n",
       "      <td>[expanding, efforts, help, puerto, rico, amp, ...</td>\n",
       "      <td>expanding efforts help puerto rico amp usvi fe...</td>\n",
       "      <td>expanding efforts help amp fellow americans ne...</td>\n",
       "      <td>expanding efforts help amp fellow americans ne...</td>\n",
       "      <td>0.285714</td>\n",
       "    </tr>\n",
       "    <tr>\n",
       "      <th>4</th>\n",
       "      <td>Prosecutor, soldier, family man, citizen. Beau...</td>\n",
       "      <td>prosecutor soldier family man citizen beau mad...</td>\n",
       "      <td>[prosecutor, soldier, family, man, citizen, be...</td>\n",
       "      <td>prosecutor soldier family man citizen beau mad...</td>\n",
       "      <td>family man citizen beau made want better legac...</td>\n",
       "      <td>family man citizen beau made want better legac...</td>\n",
       "      <td>0.500000</td>\n",
       "    </tr>\n",
       "  </tbody>\n",
       "</table>\n",
       "</div>"
      ],
      "text/plain": [
       "                                                text  \\\n",
       "0  I'm grateful to @SenJohnMcCain for his lifetim...   \n",
       "1  Michelle &amp; I are praying for the victims i...   \n",
       "2  Proud to cheer on Team USA at the Invictus Gam...   \n",
       "3  We're expanding our efforts to help Puerto Ric...   \n",
       "4  Prosecutor, soldier, family man, citizen. Beau...   \n",
       "\n",
       "                                        cleaned text  \\\n",
       "0  im grateful senjohnmccain lifetime service cou...   \n",
       "1  michelle amp praying victims las vegas thought...   \n",
       "2  proud cheer team usa invictus games today frie...   \n",
       "3  expanding efforts help puerto rico amp usvi fe...   \n",
       "4  prosecutor soldier family man citizen beau mad...   \n",
       "\n",
       "                                       tokenize_text  \\\n",
       "0  [im, grateful, senjohnmccain, lifetime, servic...   \n",
       "1  [michelle, amp, praying, victims, las, vegas, ...   \n",
       "2  [proud, cheer, team, usa, invictus, games, tod...   \n",
       "3  [expanding, efforts, help, puerto, rico, amp, ...   \n",
       "4  [prosecutor, soldier, family, man, citizen, be...   \n",
       "\n",
       "                                      rmv_infrequent  \\\n",
       "0  grateful senjohnmccain lifetime service countr...   \n",
       "1  michelle amp praying victims las vegas thought...   \n",
       "2  proud cheer team usa invictus games today frie...   \n",
       "3  expanding efforts help puerto rico amp usvi fe...   \n",
       "4  prosecutor soldier family man citizen beau mad...   \n",
       "\n",
       "                                          drop_words  \\\n",
       "0  grateful service country congratulations john ...   \n",
       "1  michelle amp victims thoughts families amp eve...   \n",
       "2     proud team games today friend joe best country   \n",
       "3  expanding efforts help amp fellow americans ne...   \n",
       "4  family man citizen beau made want better legac...   \n",
       "\n",
       "                                     lemmatize_words  polarity  \n",
       "0  grateful service country congratulations john ...  0.000000  \n",
       "1  michelle amp victims thoughts families amp eve...  0.000000  \n",
       "2     proud team games today friend joe best country  0.900000  \n",
       "3  expanding efforts help amp fellow americans ne...  0.285714  \n",
       "4  family man citizen beau made want better legac...  0.500000  "
      ]
     },
     "execution_count": 129,
     "metadata": {},
     "output_type": "execute_result"
    }
   ],
   "source": [
    "df.head()"
   ]
  },
  {
   "cell_type": "code",
   "execution_count": null,
   "id": "48a961c1",
   "metadata": {},
   "outputs": [],
   "source": []
  },
  {
   "cell_type": "code",
   "execution_count": 130,
   "id": "572e5503",
   "metadata": {},
   "outputs": [],
   "source": [
    "def sentiment(label):\n",
    "    if label < 0:\n",
    "        return 'Negative'\n",
    "    elif label == 0:\n",
    "        return 'Neutral'\n",
    "    elif label > 0:\n",
    "        return 'Positive'"
   ]
  },
  {
   "cell_type": "code",
   "execution_count": 131,
   "id": "88d66f19",
   "metadata": {},
   "outputs": [],
   "source": [
    "df['sentiment'] = df['polarity'].apply(sentiment)"
   ]
  },
  {
   "cell_type": "code",
   "execution_count": 137,
   "id": "e033c4cb",
   "metadata": {},
   "outputs": [
    {
     "data": {
      "image/png": "[encoded data removed]",
      "text/plain": [
       "<Figure size 640x480 with 1 Axes>"
      ]
     },
     "metadata": {},
     "output_type": "display_data"
    }
   ],
   "source": [
    "# make a chart of sentiment \n",
    "\n",
    "import seaborn as sns\n",
    "sns.countplot(x = df['sentiment'])\n",
    "plt.title('Sentiment types')\n",
    "plt.show()"
   ]
  },
  {
   "cell_type": "code",
   "execution_count": 134,
   "id": "c1790d39",
   "metadata": {},
   "outputs": [
    {
     "data": {
      "text/plain": [
       "sentiment\n",
       "Neutral     1669\n",
       "Positive    1328\n",
       "Negative     210\n",
       "Name: count, dtype: int64"
      ]
     },
     "execution_count": 134,
     "metadata": {},
     "output_type": "execute_result"
    }
   ],
   "source": [
    "# counting each sentiment\n",
    "\n",
    "df['sentiment'].value_counts() "
   ]
  },
  {
   "cell_type": "code",
   "execution_count": null,
   "id": "9a55b100",
   "metadata": {},
   "outputs": [],
   "source": []
  },
  {
   "cell_type": "code",
   "execution_count": 64,
   "id": "438e7fd5",
   "metadata": {},
   "outputs": [
    {
     "data": {
      "text/plain": [
       "<Axes: >"
      ]
     },
     "execution_count": 64,
     "metadata": {},
     "output_type": "execute_result"
    },
    {
     "data": {
      "image/png": "[encoded data removed]",
      "text/plain": [
       "<Figure size 640x480 with 1 Axes>"
      ]
     },
     "metadata": {},
     "output_type": "display_data"
    }
   ],
   "source": [
    "explode = (0.1, 0.01,0)\n",
    "senti = df['sentiment'].value_counts()\n",
    "\n",
    "senti.plot(kind='pie', autopct='%1.1f%%', shadow=True,\n",
    "         explode=explode, label='')"
   ]
  },
  {
   "cell_type": "code",
   "execution_count": null,
   "id": "62d20ebb",
   "metadata": {},
   "outputs": [],
   "source": []
  },
  {
   "cell_type": "code",
   "execution_count": null,
   "id": "5d3d122a",
   "metadata": {},
   "outputs": [],
   "source": []
  }
 ],
 "metadata": {
  "kernelspec": {
   "display_name": "Python 3 (ipykernel)",
   "language": "python",
   "name": "python3"
  },
  "language_info": {
   "codemirror_mode": {
    "name": "ipython",
    "version": 3
   },
   "file_extension": ".py",
   "mimetype": "text/x-python",
   "name": "python",
   "nbconvert_exporter": "python",
   "pygments_lexer": "ipython3",
   "version": "3.10.9"
  }
 },
 "nbformat": 4,
 "nbformat_minor": 5
}
