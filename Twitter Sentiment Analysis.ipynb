{
 "cells": [
  {
   "cell_type": "code",
   "execution_count": 1,
   "id": "950fe105",
   "metadata": {},
   "outputs": [],
   "source": [
    "import pandas as pd"
   ]
  },
  {
   "cell_type": "code",
   "execution_count": 2,
   "id": "f52a09dc",
   "metadata": {},
   "outputs": [
    {
     "data": {
      "text/html": [
       "<div>\n",
       "<style scoped>\n",
       "    .dataframe tbody tr th:only-of-type {\n",
       "        vertical-align: middle;\n",
       "    }\n",
       "\n",
       "    .dataframe tbody tr th {\n",
       "        vertical-align: top;\n",
       "    }\n",
       "\n",
       "    .dataframe thead th {\n",
       "        text-align: right;\n",
       "    }\n",
       "</style>\n",
       "<table border=\"1\" class=\"dataframe\">\n",
       "  <thead>\n",
       "    <tr style=\"text-align: right;\">\n",
       "      <th></th>\n",
       "      <th>created_at</th>\n",
       "      <th>text</th>\n",
       "      <th>url</th>\n",
       "      <th>replies</th>\n",
       "      <th>retweets</th>\n",
       "      <th>favorites</th>\n",
       "      <th>user</th>\n",
       "    </tr>\n",
       "  </thead>\n",
       "  <tbody>\n",
       "    <tr>\n",
       "      <th>0</th>\n",
       "      <td>10/16/17 22:59</td>\n",
       "      <td>I'm grateful to @SenJohnMcCain for his lifetim...</td>\n",
       "      <td>https://twitter.com/BarackObama/status/9200615...</td>\n",
       "      <td>17064</td>\n",
       "      <td>89916</td>\n",
       "      <td>641842</td>\n",
       "      <td>BarackObama</td>\n",
       "    </tr>\n",
       "    <tr>\n",
       "      <th>1</th>\n",
       "      <td>10/2/17 12:41</td>\n",
       "      <td>Michelle &amp;amp; I are praying for the victims i...</td>\n",
       "      <td>https://twitter.com/BarackObama/status/9148326...</td>\n",
       "      <td>21588</td>\n",
       "      <td>405895</td>\n",
       "      <td>1715753</td>\n",
       "      <td>BarackObama</td>\n",
       "    </tr>\n",
       "    <tr>\n",
       "      <th>2</th>\n",
       "      <td>9/30/17 2:22</td>\n",
       "      <td>Proud to cheer on Team USA at the Invictus Gam...</td>\n",
       "      <td>https://twitter.com/BarackObama/status/9139520...</td>\n",
       "      <td>8476</td>\n",
       "      <td>60651</td>\n",
       "      <td>503255</td>\n",
       "      <td>BarackObama</td>\n",
       "    </tr>\n",
       "    <tr>\n",
       "      <th>3</th>\n",
       "      <td>9/26/17 17:03</td>\n",
       "      <td>We're expanding our efforts to help Puerto Ric...</td>\n",
       "      <td>https://twitter.com/BarackObama/status/9127244...</td>\n",
       "      <td>10657</td>\n",
       "      <td>113807</td>\n",
       "      <td>334901</td>\n",
       "      <td>BarackObama</td>\n",
       "    </tr>\n",
       "    <tr>\n",
       "      <th>4</th>\n",
       "      <td>9/25/17 23:36</td>\n",
       "      <td>Prosecutor, soldier, family man, citizen. Beau...</td>\n",
       "      <td>https://twitter.com/BarackObama/status/9124608...</td>\n",
       "      <td>3886</td>\n",
       "      <td>58449</td>\n",
       "      <td>328106</td>\n",
       "      <td>BarackObama</td>\n",
       "    </tr>\n",
       "  </tbody>\n",
       "</table>\n",
       "</div>"
      ],
      "text/plain": [
       "       created_at                                               text  \\\n",
       "0  10/16/17 22:59  I'm grateful to @SenJohnMcCain for his lifetim...   \n",
       "1   10/2/17 12:41  Michelle &amp; I are praying for the victims i...   \n",
       "2    9/30/17 2:22  Proud to cheer on Team USA at the Invictus Gam...   \n",
       "3   9/26/17 17:03  We're expanding our efforts to help Puerto Ric...   \n",
       "4   9/25/17 23:36  Prosecutor, soldier, family man, citizen. Beau...   \n",
       "\n",
       "                                                 url  replies  retweets  \\\n",
       "0  https://twitter.com/BarackObama/status/9200615...    17064     89916   \n",
       "1  https://twitter.com/BarackObama/status/9148326...    21588    405895   \n",
       "2  https://twitter.com/BarackObama/status/9139520...     8476     60651   \n",
       "3  https://twitter.com/BarackObama/status/9127244...    10657    113807   \n",
       "4  https://twitter.com/BarackObama/status/9124608...     3886     58449   \n",
       "\n",
       "   favorites         user  \n",
       "0     641842  BarackObama  \n",
       "1    1715753  BarackObama  \n",
       "2     503255  BarackObama  \n",
       "3     334901  BarackObama  \n",
       "4     328106  BarackObama  "
      ]
     },
     "execution_count": 2,
     "metadata": {},
     "output_type": "execute_result"
    }
   ],
   "source": [
    "df = pd.read_csv('tweet obama.csv')\n",
    "df.head()"
   ]
  },
  {
   "cell_type": "code",
   "execution_count": null,
   "id": "f4824a81",
   "metadata": {},
   "outputs": [],
   "source": []
  },
  {
   "cell_type": "markdown",
   "id": "9b76a134",
   "metadata": {},
   "source": [
    "### Data Preprocessing"
   ]
  },
  {
   "cell_type": "code",
   "execution_count": 113,
   "id": "49a96e7e",
   "metadata": {},
   "outputs": [
    {
     "data": {
      "text/html": [
       "<div>\n",
       "<style scoped>\n",
       "    .dataframe tbody tr th:only-of-type {\n",
       "        vertical-align: middle;\n",
       "    }\n",
       "\n",
       "    .dataframe tbody tr th {\n",
       "        vertical-align: top;\n",
       "    }\n",
       "\n",
       "    .dataframe thead th {\n",
       "        text-align: right;\n",
       "    }\n",
       "</style>\n",
       "<table border=\"1\" class=\"dataframe\">\n",
       "  <thead>\n",
       "    <tr style=\"text-align: right;\">\n",
       "      <th></th>\n",
       "      <th>text</th>\n",
       "    </tr>\n",
       "  </thead>\n",
       "  <tbody>\n",
       "    <tr>\n",
       "      <th>0</th>\n",
       "      <td>I'm grateful to @SenJohnMcCain for his lifetim...</td>\n",
       "    </tr>\n",
       "    <tr>\n",
       "      <th>1</th>\n",
       "      <td>Michelle &amp;amp; I are praying for the victims i...</td>\n",
       "    </tr>\n",
       "    <tr>\n",
       "      <th>2</th>\n",
       "      <td>Proud to cheer on Team USA at the Invictus Gam...</td>\n",
       "    </tr>\n",
       "    <tr>\n",
       "      <th>3</th>\n",
       "      <td>We're expanding our efforts to help Puerto Ric...</td>\n",
       "    </tr>\n",
       "    <tr>\n",
       "      <th>4</th>\n",
       "      <td>Prosecutor, soldier, family man, citizen. Beau...</td>\n",
       "    </tr>\n",
       "  </tbody>\n",
       "</table>\n",
       "</div>"
      ],
      "text/plain": [
       "                                                text\n",
       "0  I'm grateful to @SenJohnMcCain for his lifetim...\n",
       "1  Michelle &amp; I are praying for the victims i...\n",
       "2  Proud to cheer on Team USA at the Invictus Gam...\n",
       "3  We're expanding our efforts to help Puerto Ric...\n",
       "4  Prosecutor, soldier, family man, citizen. Beau..."
      ]
     },
     "execution_count": 113,
     "metadata": {},
     "output_type": "execute_result"
    }
   ],
   "source": [
    "# drop unnecessary columns\n",
    "\n",
    "df = df.drop(['created_at', 'url', 'user', 'replies', 'retweets', 'favorites'], axis=1)\n",
    "df.head()"
   ]
  },
  {
   "cell_type": "code",
   "execution_count": 114,
   "id": "26c8d605",
   "metadata": {},
   "outputs": [
    {
     "data": {
      "text/plain": [
       "text    0\n",
       "dtype: int64"
      ]
     },
     "execution_count": 114,
     "metadata": {},
     "output_type": "execute_result"
    }
   ],
   "source": [
    "# check null values\n",
    "\n",
    "df.isnull().sum()"
   ]
  },
  {
   "cell_type": "code",
   "execution_count": 115,
   "id": "d2c2734f",
   "metadata": {},
   "outputs": [
    {
     "data": {
      "text/plain": [
       "(3207, 1)"
      ]
     },
     "execution_count": 115,
     "metadata": {},
     "output_type": "execute_result"
    }
   ],
   "source": [
    "df.shape"
   ]
  },
  {
   "cell_type": "markdown",
   "id": "6ce446d9",
   "metadata": {},
   "source": [
    "### Data Cleaning"
   ]
  },
  {
   "cell_type": "code",
   "execution_count": 120,
   "id": "2c7cfc7e",
   "metadata": {},
   "outputs": [],
   "source": [
    "import re\n",
    "from bs4 import BeautifulSoup\n",
    "import nltk\n",
    "from nltk.corpus import stopwords\n",
    "\n",
    "def clean_text(text):\n",
    "  \n",
    "    text = re.sub(r'http\\S+', '', text)  # URL\n",
    "    text = re.sub(r'@\\w+', '', text)  # Mentions\n",
    "    if re.search(r'<[^>]+>', text):\n",
    "        text = BeautifulSoup(text, 'html.parser').get_text()  # HTML tags\n",
    "    text = re.sub(r'\\[.*?\\]|\\{.*?\\}', '', text) # Brackets\n",
    "    text = re.sub(r'[^a-zA-Z\\s]', '', text)  # Special character & Punctuation\n",
    "    \n",
    "    text = text.lower() # Convert lowercase\n",
    "    \n",
    "    tokens = nltk.word_tokenize(text) # tokenize text\n",
    "    \n",
    "    \n",
    "    # Remove stopwords \n",
    "    # Normally using stopwords only deletes all the default stopwords.\n",
    "    # But here I need to remove some stopwords besides the default words. So I have to use custom stopwords.\n",
    "    \n",
    "    stop_words = set(stopwords.words('english'))\n",
    "    custom_stopwords = set(['https', 'http'])  # custom stopwords \n",
    "    filtered_tokens = [word for word in tokens if word not in stop_words and word not in custom_stopwords]\n",
    "    \n",
    "    # join \n",
    "    cleaned_text = ' '.join(filtered_tokens)\n",
    "    return cleaned_text\n",
    "\n",
    "# Apply the cleaning function\n",
    "df['cleaned_text'] = df['text'].apply(clean_text)"
   ]
  },
  {
   "cell_type": "code",
   "execution_count": 121,
   "id": "0e375d4f",
   "metadata": {},
   "outputs": [
    {
     "data": {
      "text/html": [
       "<div>\n",
       "<style scoped>\n",
       "    .dataframe tbody tr th:only-of-type {\n",
       "        vertical-align: middle;\n",
       "    }\n",
       "\n",
       "    .dataframe tbody tr th {\n",
       "        vertical-align: top;\n",
       "    }\n",
       "\n",
       "    .dataframe thead th {\n",
       "        text-align: right;\n",
       "    }\n",
       "</style>\n",
       "<table border=\"1\" class=\"dataframe\">\n",
       "  <thead>\n",
       "    <tr style=\"text-align: right;\">\n",
       "      <th></th>\n",
       "      <th>text</th>\n",
       "      <th>cleaned_text</th>\n",
       "    </tr>\n",
       "  </thead>\n",
       "  <tbody>\n",
       "    <tr>\n",
       "      <th>0</th>\n",
       "      <td>I'm grateful to @SenJohnMcCain for his lifetim...</td>\n",
       "      <td>im grateful lifetime service country congratul...</td>\n",
       "    </tr>\n",
       "    <tr>\n",
       "      <th>1</th>\n",
       "      <td>Michelle &amp;amp; I are praying for the victims i...</td>\n",
       "      <td>michelle amp praying victims las vegas thought...</td>\n",
       "    </tr>\n",
       "    <tr>\n",
       "      <th>2</th>\n",
       "      <td>Proud to cheer on Team USA at the Invictus Gam...</td>\n",
       "      <td>proud cheer team usa invictus games today frie...</td>\n",
       "    </tr>\n",
       "    <tr>\n",
       "      <th>3</th>\n",
       "      <td>We're expanding our efforts to help Puerto Ric...</td>\n",
       "      <td>expanding efforts help puerto rico amp usvi fe...</td>\n",
       "    </tr>\n",
       "    <tr>\n",
       "      <th>4</th>\n",
       "      <td>Prosecutor, soldier, family man, citizen. Beau...</td>\n",
       "      <td>prosecutor soldier family man citizen beau mad...</td>\n",
       "    </tr>\n",
       "  </tbody>\n",
       "</table>\n",
       "</div>"
      ],
      "text/plain": [
       "                                                text  \\\n",
       "0  I'm grateful to @SenJohnMcCain for his lifetim...   \n",
       "1  Michelle &amp; I are praying for the victims i...   \n",
       "2  Proud to cheer on Team USA at the Invictus Gam...   \n",
       "3  We're expanding our efforts to help Puerto Ric...   \n",
       "4  Prosecutor, soldier, family man, citizen. Beau...   \n",
       "\n",
       "                                        cleaned_text  \n",
       "0  im grateful lifetime service country congratul...  \n",
       "1  michelle amp praying victims las vegas thought...  \n",
       "2  proud cheer team usa invictus games today frie...  \n",
       "3  expanding efforts help puerto rico amp usvi fe...  \n",
       "4  prosecutor soldier family man citizen beau mad...  "
      ]
     },
     "execution_count": 121,
     "metadata": {},
     "output_type": "execute_result"
    }
   ],
   "source": [
    "df.head()"
   ]
  },
  {
   "cell_type": "markdown",
   "id": "921eb8f9",
   "metadata": {},
   "source": [
    "### Tokenize the data"
   ]
  },
  {
   "cell_type": "code",
   "execution_count": 122,
   "id": "8471280f",
   "metadata": {},
   "outputs": [],
   "source": [
    "from nltk.tokenize import word_tokenize\n",
    "\n",
    "df['tokenize_text'] = df['cleaned_text'].apply(word_tokenize)"
   ]
  },
  {
   "cell_type": "markdown",
   "id": "efe0dde9",
   "metadata": {},
   "source": [
    "### Remove infrequent words\n",
    "\n",
    "infrequent or rare words are noisy. They don't contain valuable information."
   ]
  },
  {
   "cell_type": "code",
   "execution_count": 123,
   "id": "487c9198",
   "metadata": {},
   "outputs": [
    {
     "data": {
      "text/html": [
       "<div>\n",
       "<style scoped>\n",
       "    .dataframe tbody tr th:only-of-type {\n",
       "        vertical-align: middle;\n",
       "    }\n",
       "\n",
       "    .dataframe tbody tr th {\n",
       "        vertical-align: top;\n",
       "    }\n",
       "\n",
       "    .dataframe thead th {\n",
       "        text-align: right;\n",
       "    }\n",
       "</style>\n",
       "<table border=\"1\" class=\"dataframe\">\n",
       "  <thead>\n",
       "    <tr style=\"text-align: right;\">\n",
       "      <th></th>\n",
       "      <th>text</th>\n",
       "      <th>cleaned_text</th>\n",
       "      <th>tokenize_text</th>\n",
       "      <th>rmv_infrequent</th>\n",
       "    </tr>\n",
       "  </thead>\n",
       "  <tbody>\n",
       "    <tr>\n",
       "      <th>0</th>\n",
       "      <td>I'm grateful to @SenJohnMcCain for his lifetim...</td>\n",
       "      <td>im grateful lifetime service country congratul...</td>\n",
       "      <td>[im, grateful, lifetime, service, country, con...</td>\n",
       "      <td>grateful lifetime service country congratulati...</td>\n",
       "    </tr>\n",
       "    <tr>\n",
       "      <th>1</th>\n",
       "      <td>Michelle &amp;amp; I are praying for the victims i...</td>\n",
       "      <td>michelle amp praying victims las vegas thought...</td>\n",
       "      <td>[michelle, amp, praying, victims, las, vegas, ...</td>\n",
       "      <td>michelle amp praying victims las vegas thought...</td>\n",
       "    </tr>\n",
       "    <tr>\n",
       "      <th>2</th>\n",
       "      <td>Proud to cheer on Team USA at the Invictus Gam...</td>\n",
       "      <td>proud cheer team usa invictus games today frie...</td>\n",
       "      <td>[proud, cheer, team, usa, invictus, games, tod...</td>\n",
       "      <td>proud cheer team usa invictus games today frie...</td>\n",
       "    </tr>\n",
       "    <tr>\n",
       "      <th>3</th>\n",
       "      <td>We're expanding our efforts to help Puerto Ric...</td>\n",
       "      <td>expanding efforts help puerto rico amp usvi fe...</td>\n",
       "      <td>[expanding, efforts, help, puerto, rico, amp, ...</td>\n",
       "      <td>expanding efforts help puerto rico amp usvi fe...</td>\n",
       "    </tr>\n",
       "    <tr>\n",
       "      <th>4</th>\n",
       "      <td>Prosecutor, soldier, family man, citizen. Beau...</td>\n",
       "      <td>prosecutor soldier family man citizen beau mad...</td>\n",
       "      <td>[prosecutor, soldier, family, man, citizen, be...</td>\n",
       "      <td>prosecutor soldier family man citizen beau mad...</td>\n",
       "    </tr>\n",
       "  </tbody>\n",
       "</table>\n",
       "</div>"
      ],
      "text/plain": [
       "                                                text  \\\n",
       "0  I'm grateful to @SenJohnMcCain for his lifetim...   \n",
       "1  Michelle &amp; I are praying for the victims i...   \n",
       "2  Proud to cheer on Team USA at the Invictus Gam...   \n",
       "3  We're expanding our efforts to help Puerto Ric...   \n",
       "4  Prosecutor, soldier, family man, citizen. Beau...   \n",
       "\n",
       "                                        cleaned_text  \\\n",
       "0  im grateful lifetime service country congratul...   \n",
       "1  michelle amp praying victims las vegas thought...   \n",
       "2  proud cheer team usa invictus games today frie...   \n",
       "3  expanding efforts help puerto rico amp usvi fe...   \n",
       "4  prosecutor soldier family man citizen beau mad...   \n",
       "\n",
       "                                       tokenize_text  \\\n",
       "0  [im, grateful, lifetime, service, country, con...   \n",
       "1  [michelle, amp, praying, victims, las, vegas, ...   \n",
       "2  [proud, cheer, team, usa, invictus, games, tod...   \n",
       "3  [expanding, efforts, help, puerto, rico, amp, ...   \n",
       "4  [prosecutor, soldier, family, man, citizen, be...   \n",
       "\n",
       "                                      rmv_infrequent  \n",
       "0  grateful lifetime service country congratulati...  \n",
       "1  michelle amp praying victims las vegas thought...  \n",
       "2  proud cheer team usa invictus games today frie...  \n",
       "3  expanding efforts help puerto rico amp usvi fe...  \n",
       "4  prosecutor soldier family man citizen beau mad...  "
      ]
     },
     "execution_count": 123,
     "metadata": {},
     "output_type": "execute_result"
    }
   ],
   "source": [
    "# we convert tokenize col to string and keep only those words which are bigger than double (2) length\n",
    "\n",
    "df['rmv_infrequent'] = df['tokenize_text'].apply(lambda x: ' '.join([item for item in x if len(item)>2]))\n",
    "df.head()"
   ]
  },
  {
   "cell_type": "code",
   "execution_count": 124,
   "id": "9a266d1e",
   "metadata": {},
   "outputs": [],
   "source": [
    "# after remove rare or infrequent words, join all the words\n",
    "\n",
    "all_words = ' '.join([word for word in df['rmv_infrequent']])"
   ]
  },
  {
   "cell_type": "markdown",
   "id": "a2aaf3c1",
   "metadata": {},
   "source": [
    "### Frequency Distribution"
   ]
  },
  {
   "cell_type": "code",
   "execution_count": 131,
   "id": "543ffb82",
   "metadata": {},
   "outputs": [
    {
     "data": {
      "text/plain": [
       "FreqDist({'president': 1209, 'obama': 1069, 'actonclimate': 294, 'change': 215, 'watch': 207, 'climate': 201, 'time': 171, 'health': 170, 'americans': 158, 'today': 155, ...})"
      ]
     },
     "execution_count": 131,
     "metadata": {},
     "output_type": "execute_result"
    }
   ],
   "source": [
    "from nltk.probability import FreqDist\n",
    "\n",
    "\n",
    "tokenize = nltk.tokenize.word_tokenize(all_words)\n",
    "frequency_distribution = FreqDist(tokenize)\n",
    "\n",
    "frequency_distribution"
   ]
  },
  {
   "cell_type": "code",
   "execution_count": 132,
   "id": "30e94b44",
   "metadata": {},
   "outputs": [
    {
     "data": {
      "text/plain": [
       "[('president', 1209),\n",
       " ('obama', 1069),\n",
       " ('actonclimate', 294),\n",
       " ('change', 215),\n",
       " ('watch', 207),\n",
       " ('climate', 201),\n",
       " ('time', 171),\n",
       " ('health', 170),\n",
       " ('americans', 158),\n",
       " ('today', 155)]"
      ]
     },
     "execution_count": 132,
     "metadata": {},
     "output_type": "execute_result"
    }
   ],
   "source": [
    "# Most common words \n",
    "frequency_distribution.most_common(10)"
   ]
  },
  {
   "cell_type": "code",
   "execution_count": null,
   "id": "cb28e7ff",
   "metadata": {},
   "outputs": [],
   "source": []
  },
  {
   "cell_type": "code",
   "execution_count": 133,
   "id": "03e952d9",
   "metadata": {},
   "outputs": [],
   "source": [
    "# frequency distribution returns a dictionary form.\n",
    "# Using frequency distribution we can see how many times a word appears. \n",
    "# At the same time, we will drop the words that come less than a certain number."
   ]
  },
  {
   "cell_type": "code",
   "execution_count": 134,
   "id": "35cf0163",
   "metadata": {},
   "outputs": [],
   "source": [
    "df['drop_words'] = df['tokenize_text'].apply(lambda x: ' '.join(word for word in x if frequency[word]>3))"
   ]
  },
  {
   "cell_type": "code",
   "execution_count": 135,
   "id": "d2fdc210",
   "metadata": {},
   "outputs": [
    {
     "data": {
      "text/html": [
       "<div>\n",
       "<style scoped>\n",
       "    .dataframe tbody tr th:only-of-type {\n",
       "        vertical-align: middle;\n",
       "    }\n",
       "\n",
       "    .dataframe tbody tr th {\n",
       "        vertical-align: top;\n",
       "    }\n",
       "\n",
       "    .dataframe thead th {\n",
       "        text-align: right;\n",
       "    }\n",
       "</style>\n",
       "<table border=\"1\" class=\"dataframe\">\n",
       "  <thead>\n",
       "    <tr style=\"text-align: right;\">\n",
       "      <th></th>\n",
       "      <th>text</th>\n",
       "      <th>cleaned_text</th>\n",
       "      <th>tokenize_text</th>\n",
       "      <th>rmv_infrequent</th>\n",
       "      <th>drop_words</th>\n",
       "    </tr>\n",
       "  </thead>\n",
       "  <tbody>\n",
       "    <tr>\n",
       "      <th>0</th>\n",
       "      <td>I'm grateful to @SenJohnMcCain for his lifetim...</td>\n",
       "      <td>im grateful lifetime service country congratul...</td>\n",
       "      <td>[im, grateful, lifetime, service, country, con...</td>\n",
       "      <td>grateful lifetime service country congratulati...</td>\n",
       "      <td>grateful service country congratulations john ...</td>\n",
       "    </tr>\n",
       "    <tr>\n",
       "      <th>1</th>\n",
       "      <td>Michelle &amp;amp; I are praying for the victims i...</td>\n",
       "      <td>michelle amp praying victims las vegas thought...</td>\n",
       "      <td>[michelle, amp, praying, victims, las, vegas, ...</td>\n",
       "      <td>michelle amp praying victims las vegas thought...</td>\n",
       "      <td>michelle amp victims thoughts families amp eve...</td>\n",
       "    </tr>\n",
       "    <tr>\n",
       "      <th>2</th>\n",
       "      <td>Proud to cheer on Team USA at the Invictus Gam...</td>\n",
       "      <td>proud cheer team usa invictus games today frie...</td>\n",
       "      <td>[proud, cheer, team, usa, invictus, games, tod...</td>\n",
       "      <td>proud cheer team usa invictus games today frie...</td>\n",
       "      <td>proud team games today friend joe best country</td>\n",
       "    </tr>\n",
       "    <tr>\n",
       "      <th>3</th>\n",
       "      <td>We're expanding our efforts to help Puerto Ric...</td>\n",
       "      <td>expanding efforts help puerto rico amp usvi fe...</td>\n",
       "      <td>[expanding, efforts, help, puerto, rico, amp, ...</td>\n",
       "      <td>expanding efforts help puerto rico amp usvi fe...</td>\n",
       "      <td>expanding efforts help amp fellow americans ne...</td>\n",
       "    </tr>\n",
       "    <tr>\n",
       "      <th>4</th>\n",
       "      <td>Prosecutor, soldier, family man, citizen. Beau...</td>\n",
       "      <td>prosecutor soldier family man citizen beau mad...</td>\n",
       "      <td>[prosecutor, soldier, family, man, citizen, be...</td>\n",
       "      <td>prosecutor soldier family man citizen beau mad...</td>\n",
       "      <td>family man citizen beau made want better legac...</td>\n",
       "    </tr>\n",
       "  </tbody>\n",
       "</table>\n",
       "</div>"
      ],
      "text/plain": [
       "                                                text  \\\n",
       "0  I'm grateful to @SenJohnMcCain for his lifetim...   \n",
       "1  Michelle &amp; I are praying for the victims i...   \n",
       "2  Proud to cheer on Team USA at the Invictus Gam...   \n",
       "3  We're expanding our efforts to help Puerto Ric...   \n",
       "4  Prosecutor, soldier, family man, citizen. Beau...   \n",
       "\n",
       "                                        cleaned_text  \\\n",
       "0  im grateful lifetime service country congratul...   \n",
       "1  michelle amp praying victims las vegas thought...   \n",
       "2  proud cheer team usa invictus games today frie...   \n",
       "3  expanding efforts help puerto rico amp usvi fe...   \n",
       "4  prosecutor soldier family man citizen beau mad...   \n",
       "\n",
       "                                       tokenize_text  \\\n",
       "0  [im, grateful, lifetime, service, country, con...   \n",
       "1  [michelle, amp, praying, victims, las, vegas, ...   \n",
       "2  [proud, cheer, team, usa, invictus, games, tod...   \n",
       "3  [expanding, efforts, help, puerto, rico, amp, ...   \n",
       "4  [prosecutor, soldier, family, man, citizen, be...   \n",
       "\n",
       "                                      rmv_infrequent  \\\n",
       "0  grateful lifetime service country congratulati...   \n",
       "1  michelle amp praying victims las vegas thought...   \n",
       "2  proud cheer team usa invictus games today frie...   \n",
       "3  expanding efforts help puerto rico amp usvi fe...   \n",
       "4  prosecutor soldier family man citizen beau mad...   \n",
       "\n",
       "                                          drop_words  \n",
       "0  grateful service country congratulations john ...  \n",
       "1  michelle amp victims thoughts families amp eve...  \n",
       "2     proud team games today friend joe best country  \n",
       "3  expanding efforts help amp fellow americans ne...  \n",
       "4  family man citizen beau made want better legac...  "
      ]
     },
     "execution_count": 135,
     "metadata": {},
     "output_type": "execute_result"
    }
   ],
   "source": [
    "df.head(3)"
   ]
  },
  {
   "cell_type": "code",
   "execution_count": null,
   "id": "66f72dae",
   "metadata": {},
   "outputs": [],
   "source": []
  },
  {
   "cell_type": "markdown",
   "id": "cf11b642",
   "metadata": {},
   "source": [
    "### Normalize text\n",
    "Now we have to normalize our text using NLP techniques. In this case we can use 'Lemmatization'"
   ]
  },
  {
   "cell_type": "code",
   "execution_count": 136,
   "id": "1fff2701",
   "metadata": {},
   "outputs": [
    {
     "data": {
      "text/html": [
       "<div>\n",
       "<style scoped>\n",
       "    .dataframe tbody tr th:only-of-type {\n",
       "        vertical-align: middle;\n",
       "    }\n",
       "\n",
       "    .dataframe tbody tr th {\n",
       "        vertical-align: top;\n",
       "    }\n",
       "\n",
       "    .dataframe thead th {\n",
       "        text-align: right;\n",
       "    }\n",
       "</style>\n",
       "<table border=\"1\" class=\"dataframe\">\n",
       "  <thead>\n",
       "    <tr style=\"text-align: right;\">\n",
       "      <th></th>\n",
       "      <th>text</th>\n",
       "      <th>cleaned_text</th>\n",
       "      <th>tokenize_text</th>\n",
       "      <th>rmv_infrequent</th>\n",
       "      <th>drop_words</th>\n",
       "      <th>lemmatize_words</th>\n",
       "    </tr>\n",
       "  </thead>\n",
       "  <tbody>\n",
       "    <tr>\n",
       "      <th>0</th>\n",
       "      <td>I'm grateful to @SenJohnMcCain for his lifetim...</td>\n",
       "      <td>im grateful lifetime service country congratul...</td>\n",
       "      <td>[im, grateful, lifetime, service, country, con...</td>\n",
       "      <td>grateful lifetime service country congratulati...</td>\n",
       "      <td>grateful service country congratulations john ...</td>\n",
       "      <td>grateful service country congratulations john ...</td>\n",
       "    </tr>\n",
       "    <tr>\n",
       "      <th>1</th>\n",
       "      <td>Michelle &amp;amp; I are praying for the victims i...</td>\n",
       "      <td>michelle amp praying victims las vegas thought...</td>\n",
       "      <td>[michelle, amp, praying, victims, las, vegas, ...</td>\n",
       "      <td>michelle amp praying victims las vegas thought...</td>\n",
       "      <td>michelle amp victims thoughts families amp eve...</td>\n",
       "      <td>michelle amp victims thoughts families amp eve...</td>\n",
       "    </tr>\n",
       "    <tr>\n",
       "      <th>2</th>\n",
       "      <td>Proud to cheer on Team USA at the Invictus Gam...</td>\n",
       "      <td>proud cheer team usa invictus games today frie...</td>\n",
       "      <td>[proud, cheer, team, usa, invictus, games, tod...</td>\n",
       "      <td>proud cheer team usa invictus games today frie...</td>\n",
       "      <td>proud team games today friend joe best country</td>\n",
       "      <td>proud team games today friend joe best country</td>\n",
       "    </tr>\n",
       "    <tr>\n",
       "      <th>3</th>\n",
       "      <td>We're expanding our efforts to help Puerto Ric...</td>\n",
       "      <td>expanding efforts help puerto rico amp usvi fe...</td>\n",
       "      <td>[expanding, efforts, help, puerto, rico, amp, ...</td>\n",
       "      <td>expanding efforts help puerto rico amp usvi fe...</td>\n",
       "      <td>expanding efforts help amp fellow americans ne...</td>\n",
       "      <td>expanding efforts help amp fellow americans ne...</td>\n",
       "    </tr>\n",
       "    <tr>\n",
       "      <th>4</th>\n",
       "      <td>Prosecutor, soldier, family man, citizen. Beau...</td>\n",
       "      <td>prosecutor soldier family man citizen beau mad...</td>\n",
       "      <td>[prosecutor, soldier, family, man, citizen, be...</td>\n",
       "      <td>prosecutor soldier family man citizen beau mad...</td>\n",
       "      <td>family man citizen beau made want better legac...</td>\n",
       "      <td>family man citizen beau made want better legac...</td>\n",
       "    </tr>\n",
       "  </tbody>\n",
       "</table>\n",
       "</div>"
      ],
      "text/plain": [
       "                                                text  \\\n",
       "0  I'm grateful to @SenJohnMcCain for his lifetim...   \n",
       "1  Michelle &amp; I are praying for the victims i...   \n",
       "2  Proud to cheer on Team USA at the Invictus Gam...   \n",
       "3  We're expanding our efforts to help Puerto Ric...   \n",
       "4  Prosecutor, soldier, family man, citizen. Beau...   \n",
       "\n",
       "                                        cleaned_text  \\\n",
       "0  im grateful lifetime service country congratul...   \n",
       "1  michelle amp praying victims las vegas thought...   \n",
       "2  proud cheer team usa invictus games today frie...   \n",
       "3  expanding efforts help puerto rico amp usvi fe...   \n",
       "4  prosecutor soldier family man citizen beau mad...   \n",
       "\n",
       "                                       tokenize_text  \\\n",
       "0  [im, grateful, lifetime, service, country, con...   \n",
       "1  [michelle, amp, praying, victims, las, vegas, ...   \n",
       "2  [proud, cheer, team, usa, invictus, games, tod...   \n",
       "3  [expanding, efforts, help, puerto, rico, amp, ...   \n",
       "4  [prosecutor, soldier, family, man, citizen, be...   \n",
       "\n",
       "                                      rmv_infrequent  \\\n",
       "0  grateful lifetime service country congratulati...   \n",
       "1  michelle amp praying victims las vegas thought...   \n",
       "2  proud cheer team usa invictus games today frie...   \n",
       "3  expanding efforts help puerto rico amp usvi fe...   \n",
       "4  prosecutor soldier family man citizen beau mad...   \n",
       "\n",
       "                                          drop_words  \\\n",
       "0  grateful service country congratulations john ...   \n",
       "1  michelle amp victims thoughts families amp eve...   \n",
       "2     proud team games today friend joe best country   \n",
       "3  expanding efforts help amp fellow americans ne...   \n",
       "4  family man citizen beau made want better legac...   \n",
       "\n",
       "                                     lemmatize_words  \n",
       "0  grateful service country congratulations john ...  \n",
       "1  michelle amp victims thoughts families amp eve...  \n",
       "2     proud team games today friend joe best country  \n",
       "3  expanding efforts help amp fellow americans ne...  \n",
       "4  family man citizen beau made want better legac...  "
      ]
     },
     "execution_count": 136,
     "metadata": {},
     "output_type": "execute_result"
    }
   ],
   "source": [
    "from nltk.stem import WordNetLemmatizer\n",
    "lemma = WordNetLemmatizer()\n",
    "\n",
    "df['lemmatize_words'] = df['drop_words'].apply(lemma.lemmatize)\n",
    "df.head(3)"
   ]
  },
  {
   "cell_type": "code",
   "execution_count": null,
   "id": "91883cc6",
   "metadata": {},
   "outputs": [],
   "source": []
  },
  {
   "cell_type": "markdown",
   "id": "47948b53",
   "metadata": {},
   "source": [
    "### Sentiment Analyzer\n",
    "\n",
    "We will use the Sentiment Intensity Analyser which uses the \"VADER Lexicon\". \n",
    "\n",
    "VADER is a rule-based sentiment analysis tool. \n",
    "\n",
    "VADER calculates text emotions and determines whether the text is positive, neutral or, negative. \n",
    "\n",
    "It's calculates text sentiment and produces four different classes of output scores: positive, negative, neutral, and compound."
   ]
  },
  {
   "cell_type": "code",
   "execution_count": 137,
   "id": "4b0dab7b",
   "metadata": {},
   "outputs": [
    {
     "data": {
      "text/html": [
       "<div>\n",
       "<style scoped>\n",
       "    .dataframe tbody tr th:only-of-type {\n",
       "        vertical-align: middle;\n",
       "    }\n",
       "\n",
       "    .dataframe tbody tr th {\n",
       "        vertical-align: top;\n",
       "    }\n",
       "\n",
       "    .dataframe thead th {\n",
       "        text-align: right;\n",
       "    }\n",
       "</style>\n",
       "<table border=\"1\" class=\"dataframe\">\n",
       "  <thead>\n",
       "    <tr style=\"text-align: right;\">\n",
       "      <th></th>\n",
       "      <th>text</th>\n",
       "      <th>cleaned_text</th>\n",
       "      <th>tokenize_text</th>\n",
       "      <th>rmv_infrequent</th>\n",
       "      <th>drop_words</th>\n",
       "      <th>lemmatize_words</th>\n",
       "      <th>polarity</th>\n",
       "    </tr>\n",
       "  </thead>\n",
       "  <tbody>\n",
       "    <tr>\n",
       "      <th>0</th>\n",
       "      <td>I'm grateful to @SenJohnMcCain for his lifetim...</td>\n",
       "      <td>im grateful lifetime service country congratul...</td>\n",
       "      <td>[im, grateful, lifetime, service, country, con...</td>\n",
       "      <td>grateful lifetime service country congratulati...</td>\n",
       "      <td>grateful service country congratulations john ...</td>\n",
       "      <td>grateful service country congratulations john ...</td>\n",
       "      <td>{'neg': 0.0, 'neu': 0.367, 'pos': 0.633, 'comp...</td>\n",
       "    </tr>\n",
       "    <tr>\n",
       "      <th>1</th>\n",
       "      <td>Michelle &amp;amp; I are praying for the victims i...</td>\n",
       "      <td>michelle amp praying victims las vegas thought...</td>\n",
       "      <td>[michelle, amp, praying, victims, las, vegas, ...</td>\n",
       "      <td>michelle amp praying victims las vegas thought...</td>\n",
       "      <td>michelle amp victims thoughts families amp eve...</td>\n",
       "      <td>michelle amp victims thoughts families amp eve...</td>\n",
       "      <td>{'neg': 0.247, 'neu': 0.753, 'pos': 0.0, 'comp...</td>\n",
       "    </tr>\n",
       "    <tr>\n",
       "      <th>2</th>\n",
       "      <td>Proud to cheer on Team USA at the Invictus Gam...</td>\n",
       "      <td>proud cheer team usa invictus games today frie...</td>\n",
       "      <td>[proud, cheer, team, usa, invictus, games, tod...</td>\n",
       "      <td>proud cheer team usa invictus games today frie...</td>\n",
       "      <td>proud team games today friend joe best country</td>\n",
       "      <td>proud team games today friend joe best country</td>\n",
       "      <td>{'neg': 0.0, 'neu': 0.323, 'pos': 0.677, 'comp...</td>\n",
       "    </tr>\n",
       "    <tr>\n",
       "      <th>3</th>\n",
       "      <td>We're expanding our efforts to help Puerto Ric...</td>\n",
       "      <td>expanding efforts help puerto rico amp usvi fe...</td>\n",
       "      <td>[expanding, efforts, help, puerto, rico, amp, ...</td>\n",
       "      <td>expanding efforts help puerto rico amp usvi fe...</td>\n",
       "      <td>expanding efforts help amp fellow americans ne...</td>\n",
       "      <td>expanding efforts help amp fellow americans ne...</td>\n",
       "      <td>{'neg': 0.0, 'neu': 0.588, 'pos': 0.412, 'comp...</td>\n",
       "    </tr>\n",
       "    <tr>\n",
       "      <th>4</th>\n",
       "      <td>Prosecutor, soldier, family man, citizen. Beau...</td>\n",
       "      <td>prosecutor soldier family man citizen beau mad...</td>\n",
       "      <td>[prosecutor, soldier, family, man, citizen, be...</td>\n",
       "      <td>prosecutor soldier family man citizen beau mad...</td>\n",
       "      <td>family man citizen beau made want better legac...</td>\n",
       "      <td>family man citizen beau made want better legac...</td>\n",
       "      <td>{'neg': 0.105, 'neu': 0.526, 'pos': 0.368, 'co...</td>\n",
       "    </tr>\n",
       "  </tbody>\n",
       "</table>\n",
       "</div>"
      ],
      "text/plain": [
       "                                                text  \\\n",
       "0  I'm grateful to @SenJohnMcCain for his lifetim...   \n",
       "1  Michelle &amp; I are praying for the victims i...   \n",
       "2  Proud to cheer on Team USA at the Invictus Gam...   \n",
       "3  We're expanding our efforts to help Puerto Ric...   \n",
       "4  Prosecutor, soldier, family man, citizen. Beau...   \n",
       "\n",
       "                                        cleaned_text  \\\n",
       "0  im grateful lifetime service country congratul...   \n",
       "1  michelle amp praying victims las vegas thought...   \n",
       "2  proud cheer team usa invictus games today frie...   \n",
       "3  expanding efforts help puerto rico amp usvi fe...   \n",
       "4  prosecutor soldier family man citizen beau mad...   \n",
       "\n",
       "                                       tokenize_text  \\\n",
       "0  [im, grateful, lifetime, service, country, con...   \n",
       "1  [michelle, amp, praying, victims, las, vegas, ...   \n",
       "2  [proud, cheer, team, usa, invictus, games, tod...   \n",
       "3  [expanding, efforts, help, puerto, rico, amp, ...   \n",
       "4  [prosecutor, soldier, family, man, citizen, be...   \n",
       "\n",
       "                                      rmv_infrequent  \\\n",
       "0  grateful lifetime service country congratulati...   \n",
       "1  michelle amp praying victims las vegas thought...   \n",
       "2  proud cheer team usa invictus games today frie...   \n",
       "3  expanding efforts help puerto rico amp usvi fe...   \n",
       "4  prosecutor soldier family man citizen beau mad...   \n",
       "\n",
       "                                          drop_words  \\\n",
       "0  grateful service country congratulations john ...   \n",
       "1  michelle amp victims thoughts families amp eve...   \n",
       "2     proud team games today friend joe best country   \n",
       "3  expanding efforts help amp fellow americans ne...   \n",
       "4  family man citizen beau made want better legac...   \n",
       "\n",
       "                                     lemmatize_words  \\\n",
       "0  grateful service country congratulations john ...   \n",
       "1  michelle amp victims thoughts families amp eve...   \n",
       "2     proud team games today friend joe best country   \n",
       "3  expanding efforts help amp fellow americans ne...   \n",
       "4  family man citizen beau made want better legac...   \n",
       "\n",
       "                                            polarity  \n",
       "0  {'neg': 0.0, 'neu': 0.367, 'pos': 0.633, 'comp...  \n",
       "1  {'neg': 0.247, 'neu': 0.753, 'pos': 0.0, 'comp...  \n",
       "2  {'neg': 0.0, 'neu': 0.323, 'pos': 0.677, 'comp...  \n",
       "3  {'neg': 0.0, 'neu': 0.588, 'pos': 0.412, 'comp...  \n",
       "4  {'neg': 0.105, 'neu': 0.526, 'pos': 0.368, 'co...  "
      ]
     },
     "execution_count": 137,
     "metadata": {},
     "output_type": "execute_result"
    }
   ],
   "source": [
    "from nltk.sentiment import SentimentIntensityAnalyzer\n",
    "\n",
    "sentiment_analyzer = SentimentIntensityAnalyzer()\n",
    "\n",
    "df['polarity'] = df['lemmatize_words'].apply(lambda x: sentiment_analyzer.polarity_scores(x))\n",
    "df.head()"
   ]
  },
  {
   "cell_type": "code",
   "execution_count": 138,
   "id": "2562c711",
   "metadata": {},
   "outputs": [],
   "source": [
    "# Transform the data\n",
    "\n",
    "df = pd.concat([df, df['polarity'].apply(pd.Series)], axis=1)\n",
    "\n",
    "# Drop the original 'polarity' column\n",
    "df = df.drop('polarity', axis=1)"
   ]
  },
  {
   "cell_type": "code",
   "execution_count": 139,
   "id": "2532d452",
   "metadata": {},
   "outputs": [
    {
     "data": {
      "text/html": [
       "<div>\n",
       "<style scoped>\n",
       "    .dataframe tbody tr th:only-of-type {\n",
       "        vertical-align: middle;\n",
       "    }\n",
       "\n",
       "    .dataframe tbody tr th {\n",
       "        vertical-align: top;\n",
       "    }\n",
       "\n",
       "    .dataframe thead th {\n",
       "        text-align: right;\n",
       "    }\n",
       "</style>\n",
       "<table border=\"1\" class=\"dataframe\">\n",
       "  <thead>\n",
       "    <tr style=\"text-align: right;\">\n",
       "      <th></th>\n",
       "      <th>text</th>\n",
       "      <th>cleaned_text</th>\n",
       "      <th>tokenize_text</th>\n",
       "      <th>rmv_infrequent</th>\n",
       "      <th>drop_words</th>\n",
       "      <th>lemmatize_words</th>\n",
       "      <th>neg</th>\n",
       "      <th>neu</th>\n",
       "      <th>pos</th>\n",
       "      <th>compound</th>\n",
       "    </tr>\n",
       "  </thead>\n",
       "  <tbody>\n",
       "    <tr>\n",
       "      <th>0</th>\n",
       "      <td>I'm grateful to @SenJohnMcCain for his lifetim...</td>\n",
       "      <td>im grateful lifetime service country congratul...</td>\n",
       "      <td>[im, grateful, lifetime, service, country, con...</td>\n",
       "      <td>grateful lifetime service country congratulati...</td>\n",
       "      <td>grateful service country congratulations john ...</td>\n",
       "      <td>grateful service country congratulations john ...</td>\n",
       "      <td>0.000</td>\n",
       "      <td>0.367</td>\n",
       "      <td>0.633</td>\n",
       "      <td>0.7845</td>\n",
       "    </tr>\n",
       "    <tr>\n",
       "      <th>1</th>\n",
       "      <td>Michelle &amp;amp; I are praying for the victims i...</td>\n",
       "      <td>michelle amp praying victims las vegas thought...</td>\n",
       "      <td>[michelle, amp, praying, victims, las, vegas, ...</td>\n",
       "      <td>michelle amp praying victims las vegas thought...</td>\n",
       "      <td>michelle amp victims thoughts families amp eve...</td>\n",
       "      <td>michelle amp victims thoughts families amp eve...</td>\n",
       "      <td>0.247</td>\n",
       "      <td>0.753</td>\n",
       "      <td>0.000</td>\n",
       "      <td>-0.3182</td>\n",
       "    </tr>\n",
       "    <tr>\n",
       "      <th>2</th>\n",
       "      <td>Proud to cheer on Team USA at the Invictus Gam...</td>\n",
       "      <td>proud cheer team usa invictus games today frie...</td>\n",
       "      <td>[proud, cheer, team, usa, invictus, games, tod...</td>\n",
       "      <td>proud cheer team usa invictus games today frie...</td>\n",
       "      <td>proud team games today friend joe best country</td>\n",
       "      <td>proud team games today friend joe best country</td>\n",
       "      <td>0.000</td>\n",
       "      <td>0.323</td>\n",
       "      <td>0.677</td>\n",
       "      <td>0.8885</td>\n",
       "    </tr>\n",
       "    <tr>\n",
       "      <th>3</th>\n",
       "      <td>We're expanding our efforts to help Puerto Ric...</td>\n",
       "      <td>expanding efforts help puerto rico amp usvi fe...</td>\n",
       "      <td>[expanding, efforts, help, puerto, rico, amp, ...</td>\n",
       "      <td>expanding efforts help puerto rico amp usvi fe...</td>\n",
       "      <td>expanding efforts help amp fellow americans ne...</td>\n",
       "      <td>expanding efforts help amp fellow americans ne...</td>\n",
       "      <td>0.000</td>\n",
       "      <td>0.588</td>\n",
       "      <td>0.412</td>\n",
       "      <td>0.5994</td>\n",
       "    </tr>\n",
       "    <tr>\n",
       "      <th>4</th>\n",
       "      <td>Prosecutor, soldier, family man, citizen. Beau...</td>\n",
       "      <td>prosecutor soldier family man citizen beau mad...</td>\n",
       "      <td>[prosecutor, soldier, family, man, citizen, be...</td>\n",
       "      <td>prosecutor soldier family man citizen beau mad...</td>\n",
       "      <td>family man citizen beau made want better legac...</td>\n",
       "      <td>family man citizen beau made want better legac...</td>\n",
       "      <td>0.105</td>\n",
       "      <td>0.526</td>\n",
       "      <td>0.368</td>\n",
       "      <td>0.4588</td>\n",
       "    </tr>\n",
       "  </tbody>\n",
       "</table>\n",
       "</div>"
      ],
      "text/plain": [
       "                                                text  \\\n",
       "0  I'm grateful to @SenJohnMcCain for his lifetim...   \n",
       "1  Michelle &amp; I are praying for the victims i...   \n",
       "2  Proud to cheer on Team USA at the Invictus Gam...   \n",
       "3  We're expanding our efforts to help Puerto Ric...   \n",
       "4  Prosecutor, soldier, family man, citizen. Beau...   \n",
       "\n",
       "                                        cleaned_text  \\\n",
       "0  im grateful lifetime service country congratul...   \n",
       "1  michelle amp praying victims las vegas thought...   \n",
       "2  proud cheer team usa invictus games today frie...   \n",
       "3  expanding efforts help puerto rico amp usvi fe...   \n",
       "4  prosecutor soldier family man citizen beau mad...   \n",
       "\n",
       "                                       tokenize_text  \\\n",
       "0  [im, grateful, lifetime, service, country, con...   \n",
       "1  [michelle, amp, praying, victims, las, vegas, ...   \n",
       "2  [proud, cheer, team, usa, invictus, games, tod...   \n",
       "3  [expanding, efforts, help, puerto, rico, amp, ...   \n",
       "4  [prosecutor, soldier, family, man, citizen, be...   \n",
       "\n",
       "                                      rmv_infrequent  \\\n",
       "0  grateful lifetime service country congratulati...   \n",
       "1  michelle amp praying victims las vegas thought...   \n",
       "2  proud cheer team usa invictus games today frie...   \n",
       "3  expanding efforts help puerto rico amp usvi fe...   \n",
       "4  prosecutor soldier family man citizen beau mad...   \n",
       "\n",
       "                                          drop_words  \\\n",
       "0  grateful service country congratulations john ...   \n",
       "1  michelle amp victims thoughts families amp eve...   \n",
       "2     proud team games today friend joe best country   \n",
       "3  expanding efforts help amp fellow americans ne...   \n",
       "4  family man citizen beau made want better legac...   \n",
       "\n",
       "                                     lemmatize_words    neg    neu    pos  \\\n",
       "0  grateful service country congratulations john ...  0.000  0.367  0.633   \n",
       "1  michelle amp victims thoughts families amp eve...  0.247  0.753  0.000   \n",
       "2     proud team games today friend joe best country  0.000  0.323  0.677   \n",
       "3  expanding efforts help amp fellow americans ne...  0.000  0.588  0.412   \n",
       "4  family man citizen beau made want better legac...  0.105  0.526  0.368   \n",
       "\n",
       "   compound  \n",
       "0    0.7845  \n",
       "1   -0.3182  \n",
       "2    0.8885  \n",
       "3    0.5994  \n",
       "4    0.4588  "
      ]
     },
     "execution_count": 139,
     "metadata": {},
     "output_type": "execute_result"
    }
   ],
   "source": [
    "df.head()"
   ]
  },
  {
   "cell_type": "code",
   "execution_count": 140,
   "id": "746443f8",
   "metadata": {},
   "outputs": [
    {
     "data": {
      "text/html": [
       "<div>\n",
       "<style scoped>\n",
       "    .dataframe tbody tr th:only-of-type {\n",
       "        vertical-align: middle;\n",
       "    }\n",
       "\n",
       "    .dataframe tbody tr th {\n",
       "        vertical-align: top;\n",
       "    }\n",
       "\n",
       "    .dataframe thead th {\n",
       "        text-align: right;\n",
       "    }\n",
       "</style>\n",
       "<table border=\"1\" class=\"dataframe\">\n",
       "  <thead>\n",
       "    <tr style=\"text-align: right;\">\n",
       "      <th></th>\n",
       "      <th>text</th>\n",
       "      <th>cleaned_text</th>\n",
       "      <th>tokenize_text</th>\n",
       "      <th>rmv_infrequent</th>\n",
       "      <th>drop_words</th>\n",
       "      <th>lemmatize_words</th>\n",
       "      <th>neg</th>\n",
       "      <th>neu</th>\n",
       "      <th>pos</th>\n",
       "      <th>compound</th>\n",
       "      <th>sentiment</th>\n",
       "    </tr>\n",
       "  </thead>\n",
       "  <tbody>\n",
       "    <tr>\n",
       "      <th>0</th>\n",
       "      <td>I'm grateful to @SenJohnMcCain for his lifetim...</td>\n",
       "      <td>im grateful lifetime service country congratul...</td>\n",
       "      <td>[im, grateful, lifetime, service, country, con...</td>\n",
       "      <td>grateful lifetime service country congratulati...</td>\n",
       "      <td>grateful service country congratulations john ...</td>\n",
       "      <td>grateful service country congratulations john ...</td>\n",
       "      <td>0.000</td>\n",
       "      <td>0.367</td>\n",
       "      <td>0.633</td>\n",
       "      <td>0.7845</td>\n",
       "      <td>Positive</td>\n",
       "    </tr>\n",
       "    <tr>\n",
       "      <th>1</th>\n",
       "      <td>Michelle &amp;amp; I are praying for the victims i...</td>\n",
       "      <td>michelle amp praying victims las vegas thought...</td>\n",
       "      <td>[michelle, amp, praying, victims, las, vegas, ...</td>\n",
       "      <td>michelle amp praying victims las vegas thought...</td>\n",
       "      <td>michelle amp victims thoughts families amp eve...</td>\n",
       "      <td>michelle amp victims thoughts families amp eve...</td>\n",
       "      <td>0.247</td>\n",
       "      <td>0.753</td>\n",
       "      <td>0.000</td>\n",
       "      <td>-0.3182</td>\n",
       "      <td>Negative</td>\n",
       "    </tr>\n",
       "    <tr>\n",
       "      <th>2</th>\n",
       "      <td>Proud to cheer on Team USA at the Invictus Gam...</td>\n",
       "      <td>proud cheer team usa invictus games today frie...</td>\n",
       "      <td>[proud, cheer, team, usa, invictus, games, tod...</td>\n",
       "      <td>proud cheer team usa invictus games today frie...</td>\n",
       "      <td>proud team games today friend joe best country</td>\n",
       "      <td>proud team games today friend joe best country</td>\n",
       "      <td>0.000</td>\n",
       "      <td>0.323</td>\n",
       "      <td>0.677</td>\n",
       "      <td>0.8885</td>\n",
       "      <td>Positive</td>\n",
       "    </tr>\n",
       "    <tr>\n",
       "      <th>3</th>\n",
       "      <td>We're expanding our efforts to help Puerto Ric...</td>\n",
       "      <td>expanding efforts help puerto rico amp usvi fe...</td>\n",
       "      <td>[expanding, efforts, help, puerto, rico, amp, ...</td>\n",
       "      <td>expanding efforts help puerto rico amp usvi fe...</td>\n",
       "      <td>expanding efforts help amp fellow americans ne...</td>\n",
       "      <td>expanding efforts help amp fellow americans ne...</td>\n",
       "      <td>0.000</td>\n",
       "      <td>0.588</td>\n",
       "      <td>0.412</td>\n",
       "      <td>0.5994</td>\n",
       "      <td>Positive</td>\n",
       "    </tr>\n",
       "    <tr>\n",
       "      <th>4</th>\n",
       "      <td>Prosecutor, soldier, family man, citizen. Beau...</td>\n",
       "      <td>prosecutor soldier family man citizen beau mad...</td>\n",
       "      <td>[prosecutor, soldier, family, man, citizen, be...</td>\n",
       "      <td>prosecutor soldier family man citizen beau mad...</td>\n",
       "      <td>family man citizen beau made want better legac...</td>\n",
       "      <td>family man citizen beau made want better legac...</td>\n",
       "      <td>0.105</td>\n",
       "      <td>0.526</td>\n",
       "      <td>0.368</td>\n",
       "      <td>0.4588</td>\n",
       "      <td>Positive</td>\n",
       "    </tr>\n",
       "  </tbody>\n",
       "</table>\n",
       "</div>"
      ],
      "text/plain": [
       "                                                text  \\\n",
       "0  I'm grateful to @SenJohnMcCain for his lifetim...   \n",
       "1  Michelle &amp; I are praying for the victims i...   \n",
       "2  Proud to cheer on Team USA at the Invictus Gam...   \n",
       "3  We're expanding our efforts to help Puerto Ric...   \n",
       "4  Prosecutor, soldier, family man, citizen. Beau...   \n",
       "\n",
       "                                        cleaned_text  \\\n",
       "0  im grateful lifetime service country congratul...   \n",
       "1  michelle amp praying victims las vegas thought...   \n",
       "2  proud cheer team usa invictus games today frie...   \n",
       "3  expanding efforts help puerto rico amp usvi fe...   \n",
       "4  prosecutor soldier family man citizen beau mad...   \n",
       "\n",
       "                                       tokenize_text  \\\n",
       "0  [im, grateful, lifetime, service, country, con...   \n",
       "1  [michelle, amp, praying, victims, las, vegas, ...   \n",
       "2  [proud, cheer, team, usa, invictus, games, tod...   \n",
       "3  [expanding, efforts, help, puerto, rico, amp, ...   \n",
       "4  [prosecutor, soldier, family, man, citizen, be...   \n",
       "\n",
       "                                      rmv_infrequent  \\\n",
       "0  grateful lifetime service country congratulati...   \n",
       "1  michelle amp praying victims las vegas thought...   \n",
       "2  proud cheer team usa invictus games today frie...   \n",
       "3  expanding efforts help puerto rico amp usvi fe...   \n",
       "4  prosecutor soldier family man citizen beau mad...   \n",
       "\n",
       "                                          drop_words  \\\n",
       "0  grateful service country congratulations john ...   \n",
       "1  michelle amp victims thoughts families amp eve...   \n",
       "2     proud team games today friend joe best country   \n",
       "3  expanding efforts help amp fellow americans ne...   \n",
       "4  family man citizen beau made want better legac...   \n",
       "\n",
       "                                     lemmatize_words    neg    neu    pos  \\\n",
       "0  grateful service country congratulations john ...  0.000  0.367  0.633   \n",
       "1  michelle amp victims thoughts families amp eve...  0.247  0.753  0.000   \n",
       "2     proud team games today friend joe best country  0.000  0.323  0.677   \n",
       "3  expanding efforts help amp fellow americans ne...  0.000  0.588  0.412   \n",
       "4  family man citizen beau made want better legac...  0.105  0.526  0.368   \n",
       "\n",
       "   compound sentiment  \n",
       "0    0.7845  Positive  \n",
       "1   -0.3182  Negative  \n",
       "2    0.8885  Positive  \n",
       "3    0.5994  Positive  \n",
       "4    0.4588  Positive  "
      ]
     },
     "execution_count": 140,
     "metadata": {},
     "output_type": "execute_result"
    }
   ],
   "source": [
    "# Now make a new column based on compound and find out Positive, Negative or Neutral\n",
    "\n",
    "df['sentiment'] = df['compound'].apply(lambda x: 'Positive' if x>0 else 'Negative' if x<0 else 'Neutral')\n",
    "df.head()"
   ]
  },
  {
   "cell_type": "code",
   "execution_count": null,
   "id": "752349b4",
   "metadata": {},
   "outputs": [],
   "source": []
  },
  {
   "cell_type": "code",
   "execution_count": 141,
   "id": "05b5e1e2",
   "metadata": {},
   "outputs": [
    {
     "data": {
      "text/plain": [
       "Positive    1695\n",
       "Neutral     1089\n",
       "Negative     423\n",
       "Name: sentiment, dtype: int64"
      ]
     },
     "execution_count": 141,
     "metadata": {},
     "output_type": "execute_result"
    }
   ],
   "source": [
    "# Checking and counts sentiments\n",
    "\n",
    "df['sentiment'].value_counts()"
   ]
  },
  {
   "cell_type": "code",
   "execution_count": null,
   "id": "4389bf70",
   "metadata": {},
   "outputs": [],
   "source": []
  },
  {
   "cell_type": "markdown",
   "id": "4bb6d7b2",
   "metadata": {},
   "source": [
    "### Visualize each Sentiment"
   ]
  },
  {
   "cell_type": "code",
   "execution_count": 142,
   "id": "941d2696",
   "metadata": {},
   "outputs": [
    {
     "data": {
      "image/png": "[encoded data removed]",
      "text/plain": [
       "<Figure size 640x480 with 1 Axes>"
      ]
     },
     "metadata": {},
     "output_type": "display_data"
    }
   ],
   "source": [
    "# using barplot\n",
    "\n",
    "bar_color = sns.color_palette(\"colorblind\", len(common_word))\n",
    "\n",
    "ax = sns.countplot(y='sentiment', data=df, palette=bar_color)\n",
    "ax.xaxis.grid(False)"
   ]
  },
  {
   "cell_type": "code",
   "execution_count": null,
   "id": "30196739",
   "metadata": {},
   "outputs": [],
   "source": []
  },
  {
   "cell_type": "code",
   "execution_count": 143,
   "id": "2f31e12b",
   "metadata": {},
   "outputs": [
    {
     "data": {
      "image/png": "[encoded data removed]",
      "text/plain": [
       "<Figure size 640x480 with 1 Axes>"
      ]
     },
     "metadata": {},
     "output_type": "display_data"
    }
   ],
   "source": [
    "# using boxplot\n",
    "\n",
    "bar_color = sns.color_palette(\"Dark2\", len(common_word))\n",
    "\n",
    "ax = sns.boxplot(y='compound', x='sentiment', data=df, palette=bar_color)\n",
    "ax.yaxis.grid(False)"
   ]
  },
  {
   "cell_type": "markdown",
   "id": "e195d83e",
   "metadata": {},
   "source": [
    "#### Most common words"
   ]
  },
  {
   "cell_type": "code",
   "execution_count": 144,
   "id": "2e0c4123",
   "metadata": {},
   "outputs": [
    {
     "data": {
      "image/png": "[encoded data removed]",
      "text/plain": [
       "<Figure size 1000x400 with 1 Axes>"
      ]
     },
     "metadata": {},
     "output_type": "display_data"
    }
   ],
   "source": [
    "top_words = frequency.most_common(10)\n",
    "\n",
    "# g\n",
    "words = []\n",
    "counts = []\n",
    "for word, count in top_words:\n",
    "    words.append(word)\n",
    "    counts.append(count)\n",
    "\n",
    "bar_color = sns.color_palette(\"viridis\", len(common_word))\n",
    "    \n",
    "plt.figure(figsize=(10, 4))\n",
    "ax = sns.barplot(x=counts, y=words, palette = bar_color)\n",
    "plt.ylabel('Words')\n",
    "plt.title('Top 10 Most Common Words')\n",
    "ax.xaxis.grid(False) \n",
    "\n",
    "plt.show()"
   ]
  },
  {
   "cell_type": "markdown",
   "id": "2e4bdaa4",
   "metadata": {},
   "source": [
    "#### Visualize all the words "
   ]
  },
  {
   "cell_type": "code",
   "execution_count": 145,
   "id": "b78dfe07",
   "metadata": {},
   "outputs": [
    {
     "data": {
      "image/png": "[encoded data removed]",
      "text/plain": [
       "<Figure size 800x800 with 1 Axes>"
      ]
     },
     "metadata": {},
     "output_type": "display_data"
    }
   ],
   "source": [
    "import wordcloud\n",
    "import matplotlib.pyplot as plt\n",
    "\n",
    "wordcloud = WordCloud(width=800, height=450, background_color='black', max_words=150).generate(all_words)\n",
    "plt.figure(figsize=(8, 8), facecolor=None)\n",
    "plt.imshow(wordcloud)\n",
    "plt.axis(\"off\")\n",
    "plt.tight_layout(pad=0)\n",
    "plt.show()"
   ]
  },
  {
   "cell_type": "code",
   "execution_count": 151,
   "id": "902c0fcb",
   "metadata": {},
   "outputs": [
    {
     "data": {
      "application/vnd.plotly.v1+json": {
       "config": {
        "plotlyServerURL": "https://plot.ly"
       },
       "data": [
        {
         "alignmentgroup": "True",
         "hovertemplate": "x=%{x}<br>y=%{y}<extra></extra>",
         "legendgroup": "",
         "marker": {
          "color": "#636efa",
          "pattern": {
           "shape": ""
          }
         },
         "name": "",
         "offsetgroup": "",
         "orientation": "v",
         "showlegend": false,
         "textposition": "auto",
         "type": "bar",
         "x": [
          "president",
          "obama",
          "actonclimate",
          "change",
          "watch",
          "climate",
          "time",
          "health",
          "americans",
          "today"
         ],
         "xaxis": "x",
         "y": [
          1209,
          1069,
          294,
          215,
          207,
          201,
          171,
          170,
          158,
          155
         ],
         "yaxis": "y"
        }
       ],
       "layout": {
        "barmode": "stack",
        "legend": {
         "tracegroupgap": 0
        },
        "margin": {
         "t": 60
        },
        "template": {
         "data": {
          "bar": [
           {
            "error_x": {
             "color": "#2a3f5f"
            },
            "error_y": {
             "color": "#2a3f5f"
            },
            "marker": {
             "line": {
              "color": "#E5ECF6",
              "width": 0.5
             },
             "pattern": {
              "fillmode": "overlay",
              "size": 10,
              "solidity": 0.2
             }
            },
            "type": "bar"
           }
          ],
          "barpolar": [
           {
            "marker": {
             "line": {
              "color": "#E5ECF6",
              "width": 0.5
             },
             "pattern": {
              "fillmode": "overlay",
              "size": 10,
              "solidity": 0.2
             }
            },
            "type": "barpolar"
           }
          ],
          "carpet": [
           {
            "aaxis": {
             "endlinecolor": "#2a3f5f",
             "gridcolor": "white",
             "linecolor": "white",
             "minorgridcolor": "white",
             "startlinecolor": "#2a3f5f"
            },
            "baxis": {
             "endlinecolor": "#2a3f5f",
             "gridcolor": "white",
             "linecolor": "white",
             "minorgridcolor": "white",
             "startlinecolor": "#2a3f5f"
            },
            "type": "carpet"
           }
          ],
          "choropleth": [
           {
            "colorbar": {
             "outlinewidth": 0,
             "ticks": ""
            },
            "type": "choropleth"
           }
          ],
          "contour": [
           {
            "colorbar": {
             "outlinewidth": 0,
             "ticks": ""
            },
            "colorscale": [
             [
              0,
              "#0d0887"
             ],
             [
              0.1111111111111111,
              "#46039f"
             ],
             [
              0.2222222222222222,
              "#7201a8"
             ],
             [
              0.3333333333333333,
              "#9c179e"
             ],
             [
              0.4444444444444444,
              "#bd3786"
             ],
             [
              0.5555555555555556,
              "#d8576b"
             ],
             [
              0.6666666666666666,
              "#ed7953"
             ],
             [
              0.7777777777777778,
              "#fb9f3a"
             ],
             [
              0.8888888888888888,
              "#fdca26"
             ],
             [
              1,
              "#f0f921"
             ]
            ],
            "type": "contour"
           }
          ],
          "contourcarpet": [
           {
            "colorbar": {
             "outlinewidth": 0,
             "ticks": ""
            },
            "type": "contourcarpet"
           }
          ],
          "heatmap": [
           {
            "colorbar": {
             "outlinewidth": 0,
             "ticks": ""
            },
            "colorscale": [
             [
              0,
              "#0d0887"
             ],
             [
              0.1111111111111111,
              "#46039f"
             ],
             [
              0.2222222222222222,
              "#7201a8"
             ],
             [
              0.3333333333333333,
              "#9c179e"
             ],
             [
              0.4444444444444444,
              "#bd3786"
             ],
             [
              0.5555555555555556,
              "#d8576b"
             ],
             [
              0.6666666666666666,
              "#ed7953"
             ],
             [
              0.7777777777777778,
              "#fb9f3a"
             ],
             [
              0.8888888888888888,
              "#fdca26"
             ],
             [
              1,
              "#f0f921"
             ]
            ],
            "type": "heatmap"
           }
          ],
          "heatmapgl": [
           {
            "colorbar": {
             "outlinewidth": 0,
             "ticks": ""
            },
            "colorscale": [
             [
              0,
              "#0d0887"
             ],
             [
              0.1111111111111111,
              "#46039f"
             ],
             [
              0.2222222222222222,
              "#7201a8"
             ],
             [
              0.3333333333333333,
              "#9c179e"
             ],
             [
              0.4444444444444444,
              "#bd3786"
             ],
             [
              0.5555555555555556,
              "#d8576b"
             ],
             [
              0.6666666666666666,
              "#ed7953"
             ],
             [
              0.7777777777777778,
              "#fb9f3a"
             ],
             [
              0.8888888888888888,
              "#fdca26"
             ],
             [
              1,
              "#f0f921"
             ]
            ],
            "type": "heatmapgl"
           }
          ],
          "histogram": [
           {
            "marker": {
             "pattern": {
              "fillmode": "overlay",
              "size": 10,
              "solidity": 0.2
             }
            },
            "type": "histogram"
           }
          ],
          "histogram2d": [
           {
            "colorbar": {
             "outlinewidth": 0,
             "ticks": ""
            },
            "colorscale": [
             [
              0,
              "#0d0887"
             ],
             [
              0.1111111111111111,
              "#46039f"
             ],
             [
              0.2222222222222222,
              "#7201a8"
             ],
             [
              0.3333333333333333,
              "#9c179e"
             ],
             [
              0.4444444444444444,
              "#bd3786"
             ],
             [
              0.5555555555555556,
              "#d8576b"
             ],
             [
              0.6666666666666666,
              "#ed7953"
             ],
             [
              0.7777777777777778,
              "#fb9f3a"
             ],
             [
              0.8888888888888888,
              "#fdca26"
             ],
             [
              1,
              "#f0f921"
             ]
            ],
            "type": "histogram2d"
           }
          ],
          "histogram2dcontour": [
           {
            "colorbar": {
             "outlinewidth": 0,
             "ticks": ""
            },
            "colorscale": [
             [
              0,
              "#0d0887"
             ],
             [
              0.1111111111111111,
              "#46039f"
             ],
             [
              0.2222222222222222,
              "#7201a8"
             ],
             [
              0.3333333333333333,
              "#9c179e"
             ],
             [
              0.4444444444444444,
              "#bd3786"
             ],
             [
              0.5555555555555556,
              "#d8576b"
             ],
             [
              0.6666666666666666,
              "#ed7953"
             ],
             [
              0.7777777777777778,
              "#fb9f3a"
             ],
             [
              0.8888888888888888,
              "#fdca26"
             ],
             [
              1,
              "#f0f921"
             ]
            ],
            "type": "histogram2dcontour"
           }
          ],
          "mesh3d": [
           {
            "colorbar": {
             "outlinewidth": 0,
             "ticks": ""
            },
            "type": "mesh3d"
           }
          ],
          "parcoords": [
           {
            "line": {
             "colorbar": {
              "outlinewidth": 0,
              "ticks": ""
             }
            },
            "type": "parcoords"
           }
          ],
          "pie": [
           {
            "automargin": true,
            "type": "pie"
           }
          ],
          "scatter": [
           {
            "fillpattern": {
             "fillmode": "overlay",
             "size": 10,
             "solidity": 0.2
            },
            "type": "scatter"
           }
          ],
          "scatter3d": [
           {
            "line": {
             "colorbar": {
              "outlinewidth": 0,
              "ticks": ""
             }
            },
            "marker": {
             "colorbar": {
              "outlinewidth": 0,
              "ticks": ""
             }
            },
            "type": "scatter3d"
           }
          ],
          "scattercarpet": [
           {
            "marker": {
             "colorbar": {
              "outlinewidth": 0,
              "ticks": ""
             }
            },
            "type": "scattercarpet"
           }
          ],
          "scattergeo": [
           {
            "marker": {
             "colorbar": {
              "outlinewidth": 0,
              "ticks": ""
             }
            },
            "type": "scattergeo"
           }
          ],
          "scattergl": [
           {
            "marker": {
             "colorbar": {
              "outlinewidth": 0,
              "ticks": ""
             }
            },
            "type": "scattergl"
           }
          ],
          "scattermapbox": [
           {
            "marker": {
             "colorbar": {
              "outlinewidth": 0,
              "ticks": ""
             }
            },
            "type": "scattermapbox"
           }
          ],
          "scatterpolar": [
           {
            "marker": {
             "colorbar": {
              "outlinewidth": 0,
              "ticks": ""
             }
            },
            "type": "scatterpolar"
           }
          ],
          "scatterpolargl": [
           {
            "marker": {
             "colorbar": {
              "outlinewidth": 0,
              "ticks": ""
             }
            },
            "type": "scatterpolargl"
           }
          ],
          "scatterternary": [
           {
            "marker": {
             "colorbar": {
              "outlinewidth": 0,
              "ticks": ""
             }
            },
            "type": "scatterternary"
           }
          ],
          "surface": [
           {
            "colorbar": {
             "outlinewidth": 0,
             "ticks": ""
            },
            "colorscale": [
             [
              0,
              "#0d0887"
             ],
             [
              0.1111111111111111,
              "#46039f"
             ],
             [
              0.2222222222222222,
              "#7201a8"
             ],
             [
              0.3333333333333333,
              "#9c179e"
             ],
             [
              0.4444444444444444,
              "#bd3786"
             ],
             [
              0.5555555555555556,
              "#d8576b"
             ],
             [
              0.6666666666666666,
              "#ed7953"
             ],
             [
              0.7777777777777778,
              "#fb9f3a"
             ],
             [
              0.8888888888888888,
              "#fdca26"
             ],
             [
              1,
              "#f0f921"
             ]
            ],
            "type": "surface"
           }
          ],
          "table": [
           {
            "cells": {
             "fill": {
              "color": "#EBF0F8"
             },
             "line": {
              "color": "white"
             }
            },
            "header": {
             "fill": {
              "color": "#C8D4E3"
             },
             "line": {
              "color": "white"
             }
            },
            "type": "table"
           }
          ]
         },
         "layout": {
          "annotationdefaults": {
           "arrowcolor": "#2a3f5f",
           "arrowhead": 0,
           "arrowwidth": 1
          },
          "autotypenumbers": "strict",
          "coloraxis": {
           "colorbar": {
            "outlinewidth": 0,
            "ticks": ""
           }
          },
          "colorscale": {
           "diverging": [
            [
             0,
             "#8e0152"
            ],
            [
             0.1,
             "#c51b7d"
            ],
            [
             0.2,
             "#de77ae"
            ],
            [
             0.3,
             "#f1b6da"
            ],
            [
             0.4,
             "#fde0ef"
            ],
            [
             0.5,
             "#f7f7f7"
            ],
            [
             0.6,
             "#e6f5d0"
            ],
            [
             0.7,
             "#b8e186"
            ],
            [
             0.8,
             "#7fbc41"
            ],
            [
             0.9,
             "#4d9221"
            ],
            [
             1,
             "#276419"
            ]
           ],
           "sequential": [
            [
             0,
             "#0d0887"
            ],
            [
             0.1111111111111111,
             "#46039f"
            ],
            [
             0.2222222222222222,
             "#7201a8"
            ],
            [
             0.3333333333333333,
             "#9c179e"
            ],
            [
             0.4444444444444444,
             "#bd3786"
            ],
            [
             0.5555555555555556,
             "#d8576b"
            ],
            [
             0.6666666666666666,
             "#ed7953"
            ],
            [
             0.7777777777777778,
             "#fb9f3a"
            ],
            [
             0.8888888888888888,
             "#fdca26"
            ],
            [
             1,
             "#f0f921"
            ]
           ],
           "sequentialminus": [
            [
             0,
             "#0d0887"
            ],
            [
             0.1111111111111111,
             "#46039f"
            ],
            [
             0.2222222222222222,
             "#7201a8"
            ],
            [
             0.3333333333333333,
             "#9c179e"
            ],
            [
             0.4444444444444444,
             "#bd3786"
            ],
            [
             0.5555555555555556,
             "#d8576b"
            ],
            [
             0.6666666666666666,
             "#ed7953"
            ],
            [
             0.7777777777777778,
             "#fb9f3a"
            ],
            [
             0.8888888888888888,
             "#fdca26"
            ],
            [
             1,
             "#f0f921"
            ]
           ]
          },
          "colorway": [
           "#636efa",
           "#EF553B",
           "#00cc96",
           "#ab63fa",
           "#FFA15A",
           "#19d3f3",
           "#FF6692",
           "#B6E880",
           "#FF97FF",
           "#FECB52"
          ],
          "font": {
           "color": "#2a3f5f"
          },
          "geo": {
           "bgcolor": "white",
           "lakecolor": "white",
           "landcolor": "#E5ECF6",
           "showlakes": true,
           "showland": true,
           "subunitcolor": "white"
          },
          "hoverlabel": {
           "align": "left"
          },
          "hovermode": "closest",
          "mapbox": {
           "style": "light"
          },
          "paper_bgcolor": "white",
          "plot_bgcolor": "#E5ECF6",
          "polar": {
           "angularaxis": {
            "gridcolor": "white",
            "linecolor": "white",
            "ticks": ""
           },
           "bgcolor": "#E5ECF6",
           "radialaxis": {
            "gridcolor": "white",
            "linecolor": "white",
            "ticks": ""
           }
          },
          "scene": {
           "xaxis": {
            "backgroundcolor": "#E5ECF6",
            "gridcolor": "white",
            "gridwidth": 2,
            "linecolor": "white",
            "showbackground": true,
            "ticks": "",
            "zerolinecolor": "white"
           },
           "yaxis": {
            "backgroundcolor": "#E5ECF6",
            "gridcolor": "white",
            "gridwidth": 2,
            "linecolor": "white",
            "showbackground": true,
            "ticks": "",
            "zerolinecolor": "white"
           },
           "zaxis": {
            "backgroundcolor": "#E5ECF6",
            "gridcolor": "white",
            "gridwidth": 2,
            "linecolor": "white",
            "showbackground": true,
            "ticks": "",
            "zerolinecolor": "white"
           }
          },
          "shapedefaults": {
           "line": {
            "color": "#2a3f5f"
           }
          },
          "ternary": {
           "aaxis": {
            "gridcolor": "white",
            "linecolor": "white",
            "ticks": ""
           },
           "baxis": {
            "gridcolor": "white",
            "linecolor": "white",
            "ticks": ""
           },
           "bgcolor": "#E5ECF6",
           "caxis": {
            "gridcolor": "white",
            "linecolor": "white",
            "ticks": ""
           }
          },
          "title": {
           "x": 0.05
          },
          "xaxis": {
           "automargin": true,
           "gridcolor": "white",
           "linecolor": "white",
           "ticks": "",
           "title": {
            "standoff": 15
           },
           "zerolinecolor": "white",
           "zerolinewidth": 2
          },
          "yaxis": {
           "automargin": true,
           "gridcolor": "white",
           "linecolor": "white",
           "ticks": "",
           "title": {
            "standoff": 15
           },
           "zerolinecolor": "white",
           "zerolinewidth": 2
          }
         }
        },
        "xaxis": {
         "anchor": "y",
         "domain": [
          0,
          1
         ],
         "title": {
          "text": "x"
         }
        },
        "yaxis": {
         "anchor": "x",
         "categoryorder": "total ascending",
         "domain": [
          0,
          1
         ],
         "title": {
          "text": "y"
         }
        }
       }
      },
      "text/html": [
       "<div>                            <div id=\"dd40bcb8-25e4-42aa-8c42-baaa5a652a9c\" class=\"plotly-graph-div\" style=\"height:525px; width:100%;\"></div>            <script type=\"text/javascript\">                require([\"plotly\"], function(Plotly) {                    window.PLOTLYENV=window.PLOTLYENV || {};                                    if (document.getElementById(\"dd40bcb8-25e4-42aa-8c42-baaa5a652a9c\")) {                    Plotly.newPlot(                        \"dd40bcb8-25e4-42aa-8c42-baaa5a652a9c\",                        [{\"alignmentgroup\":\"True\",\"hovertemplate\":\"x=%{x}<br>y=%{y}<extra></extra>\",\"legendgroup\":\"\",\"marker\":{\"color\":\"#636efa\",\"pattern\":{\"shape\":\"\"}},\"name\":\"\",\"offsetgroup\":\"\",\"orientation\":\"v\",\"showlegend\":false,\"textposition\":\"auto\",\"x\":[\"president\",\"obama\",\"actonclimate\",\"change\",\"watch\",\"climate\",\"time\",\"health\",\"americans\",\"today\"],\"xaxis\":\"x\",\"y\":[1209,1069,294,215,207,201,171,170,158,155],\"yaxis\":\"y\",\"type\":\"bar\"}],                        {\"template\":{\"data\":{\"histogram2dcontour\":[{\"type\":\"histogram2dcontour\",\"colorbar\":{\"outlinewidth\":0,\"ticks\":\"\"},\"colorscale\":[[0.0,\"#0d0887\"],[0.1111111111111111,\"#46039f\"],[0.2222222222222222,\"#7201a8\"],[0.3333333333333333,\"#9c179e\"],[0.4444444444444444,\"#bd3786\"],[0.5555555555555556,\"#d8576b\"],[0.6666666666666666,\"#ed7953\"],[0.7777777777777778,\"#fb9f3a\"],[0.8888888888888888,\"#fdca26\"],[1.0,\"#f0f921\"]]}],\"choropleth\":[{\"type\":\"choropleth\",\"colorbar\":{\"outlinewidth\":0,\"ticks\":\"\"}}],\"histogram2d\":[{\"type\":\"histogram2d\",\"colorbar\":{\"outlinewidth\":0,\"ticks\":\"\"},\"colorscale\":[[0.0,\"#0d0887\"],[0.1111111111111111,\"#46039f\"],[0.2222222222222222,\"#7201a8\"],[0.3333333333333333,\"#9c179e\"],[0.4444444444444444,\"#bd3786\"],[0.5555555555555556,\"#d8576b\"],[0.6666666666666666,\"#ed7953\"],[0.7777777777777778,\"#fb9f3a\"],[0.8888888888888888,\"#fdca26\"],[1.0,\"#f0f921\"]]}],\"heatmap\":[{\"type\":\"heatmap\",\"colorbar\":{\"outlinewidth\":0,\"ticks\":\"\"},\"colorscale\":[[0.0,\"#0d0887\"],[0.1111111111111111,\"#46039f\"],[0.2222222222222222,\"#7201a8\"],[0.3333333333333333,\"#9c179e\"],[0.4444444444444444,\"#bd3786\"],[0.5555555555555556,\"#d8576b\"],[0.6666666666666666,\"#ed7953\"],[0.7777777777777778,\"#fb9f3a\"],[0.8888888888888888,\"#fdca26\"],[1.0,\"#f0f921\"]]}],\"heatmapgl\":[{\"type\":\"heatmapgl\",\"colorbar\":{\"outlinewidth\":0,\"ticks\":\"\"},\"colorscale\":[[0.0,\"#0d0887\"],[0.1111111111111111,\"#46039f\"],[0.2222222222222222,\"#7201a8\"],[0.3333333333333333,\"#9c179e\"],[0.4444444444444444,\"#bd3786\"],[0.5555555555555556,\"#d8576b\"],[0.6666666666666666,\"#ed7953\"],[0.7777777777777778,\"#fb9f3a\"],[0.8888888888888888,\"#fdca26\"],[1.0,\"#f0f921\"]]}],\"contourcarpet\":[{\"type\":\"contourcarpet\",\"colorbar\":{\"outlinewidth\":0,\"ticks\":\"\"}}],\"contour\":[{\"type\":\"contour\",\"colorbar\":{\"outlinewidth\":0,\"ticks\":\"\"},\"colorscale\":[[0.0,\"#0d0887\"],[0.1111111111111111,\"#46039f\"],[0.2222222222222222,\"#7201a8\"],[0.3333333333333333,\"#9c179e\"],[0.4444444444444444,\"#bd3786\"],[0.5555555555555556,\"#d8576b\"],[0.6666666666666666,\"#ed7953\"],[0.7777777777777778,\"#fb9f3a\"],[0.8888888888888888,\"#fdca26\"],[1.0,\"#f0f921\"]]}],\"surface\":[{\"type\":\"surface\",\"colorbar\":{\"outlinewidth\":0,\"ticks\":\"\"},\"colorscale\":[[0.0,\"#0d0887\"],[0.1111111111111111,\"#46039f\"],[0.2222222222222222,\"#7201a8\"],[0.3333333333333333,\"#9c179e\"],[0.4444444444444444,\"#bd3786\"],[0.5555555555555556,\"#d8576b\"],[0.6666666666666666,\"#ed7953\"],[0.7777777777777778,\"#fb9f3a\"],[0.8888888888888888,\"#fdca26\"],[1.0,\"#f0f921\"]]}],\"mesh3d\":[{\"type\":\"mesh3d\",\"colorbar\":{\"outlinewidth\":0,\"ticks\":\"\"}}],\"scatter\":[{\"fillpattern\":{\"fillmode\":\"overlay\",\"size\":10,\"solidity\":0.2},\"type\":\"scatter\"}],\"parcoords\":[{\"type\":\"parcoords\",\"line\":{\"colorbar\":{\"outlinewidth\":0,\"ticks\":\"\"}}}],\"scatterpolargl\":[{\"type\":\"scatterpolargl\",\"marker\":{\"colorbar\":{\"outlinewidth\":0,\"ticks\":\"\"}}}],\"bar\":[{\"error_x\":{\"color\":\"#2a3f5f\"},\"error_y\":{\"color\":\"#2a3f5f\"},\"marker\":{\"line\":{\"color\":\"#E5ECF6\",\"width\":0.5},\"pattern\":{\"fillmode\":\"overlay\",\"size\":10,\"solidity\":0.2}},\"type\":\"bar\"}],\"scattergeo\":[{\"type\":\"scattergeo\",\"marker\":{\"colorbar\":{\"outlinewidth\":0,\"ticks\":\"\"}}}],\"scatterpolar\":[{\"type\":\"scatterpolar\",\"marker\":{\"colorbar\":{\"outlinewidth\":0,\"ticks\":\"\"}}}],\"histogram\":[{\"marker\":{\"pattern\":{\"fillmode\":\"overlay\",\"size\":10,\"solidity\":0.2}},\"type\":\"histogram\"}],\"scattergl\":[{\"type\":\"scattergl\",\"marker\":{\"colorbar\":{\"outlinewidth\":0,\"ticks\":\"\"}}}],\"scatter3d\":[{\"type\":\"scatter3d\",\"line\":{\"colorbar\":{\"outlinewidth\":0,\"ticks\":\"\"}},\"marker\":{\"colorbar\":{\"outlinewidth\":0,\"ticks\":\"\"}}}],\"scattermapbox\":[{\"type\":\"scattermapbox\",\"marker\":{\"colorbar\":{\"outlinewidth\":0,\"ticks\":\"\"}}}],\"scatterternary\":[{\"type\":\"scatterternary\",\"marker\":{\"colorbar\":{\"outlinewidth\":0,\"ticks\":\"\"}}}],\"scattercarpet\":[{\"type\":\"scattercarpet\",\"marker\":{\"colorbar\":{\"outlinewidth\":0,\"ticks\":\"\"}}}],\"carpet\":[{\"aaxis\":{\"endlinecolor\":\"#2a3f5f\",\"gridcolor\":\"white\",\"linecolor\":\"white\",\"minorgridcolor\":\"white\",\"startlinecolor\":\"#2a3f5f\"},\"baxis\":{\"endlinecolor\":\"#2a3f5f\",\"gridcolor\":\"white\",\"linecolor\":\"white\",\"minorgridcolor\":\"white\",\"startlinecolor\":\"#2a3f5f\"},\"type\":\"carpet\"}],\"table\":[{\"cells\":{\"fill\":{\"color\":\"#EBF0F8\"},\"line\":{\"color\":\"white\"}},\"header\":{\"fill\":{\"color\":\"#C8D4E3\"},\"line\":{\"color\":\"white\"}},\"type\":\"table\"}],\"barpolar\":[{\"marker\":{\"line\":{\"color\":\"#E5ECF6\",\"width\":0.5},\"pattern\":{\"fillmode\":\"overlay\",\"size\":10,\"solidity\":0.2}},\"type\":\"barpolar\"}],\"pie\":[{\"automargin\":true,\"type\":\"pie\"}]},\"layout\":{\"autotypenumbers\":\"strict\",\"colorway\":[\"#636efa\",\"#EF553B\",\"#00cc96\",\"#ab63fa\",\"#FFA15A\",\"#19d3f3\",\"#FF6692\",\"#B6E880\",\"#FF97FF\",\"#FECB52\"],\"font\":{\"color\":\"#2a3f5f\"},\"hovermode\":\"closest\",\"hoverlabel\":{\"align\":\"left\"},\"paper_bgcolor\":\"white\",\"plot_bgcolor\":\"#E5ECF6\",\"polar\":{\"bgcolor\":\"#E5ECF6\",\"angularaxis\":{\"gridcolor\":\"white\",\"linecolor\":\"white\",\"ticks\":\"\"},\"radialaxis\":{\"gridcolor\":\"white\",\"linecolor\":\"white\",\"ticks\":\"\"}},\"ternary\":{\"bgcolor\":\"#E5ECF6\",\"aaxis\":{\"gridcolor\":\"white\",\"linecolor\":\"white\",\"ticks\":\"\"},\"baxis\":{\"gridcolor\":\"white\",\"linecolor\":\"white\",\"ticks\":\"\"},\"caxis\":{\"gridcolor\":\"white\",\"linecolor\":\"white\",\"ticks\":\"\"}},\"coloraxis\":{\"colorbar\":{\"outlinewidth\":0,\"ticks\":\"\"}},\"colorscale\":{\"sequential\":[[0.0,\"#0d0887\"],[0.1111111111111111,\"#46039f\"],[0.2222222222222222,\"#7201a8\"],[0.3333333333333333,\"#9c179e\"],[0.4444444444444444,\"#bd3786\"],[0.5555555555555556,\"#d8576b\"],[0.6666666666666666,\"#ed7953\"],[0.7777777777777778,\"#fb9f3a\"],[0.8888888888888888,\"#fdca26\"],[1.0,\"#f0f921\"]],\"sequentialminus\":[[0.0,\"#0d0887\"],[0.1111111111111111,\"#46039f\"],[0.2222222222222222,\"#7201a8\"],[0.3333333333333333,\"#9c179e\"],[0.4444444444444444,\"#bd3786\"],[0.5555555555555556,\"#d8576b\"],[0.6666666666666666,\"#ed7953\"],[0.7777777777777778,\"#fb9f3a\"],[0.8888888888888888,\"#fdca26\"],[1.0,\"#f0f921\"]],\"diverging\":[[0,\"#8e0152\"],[0.1,\"#c51b7d\"],[0.2,\"#de77ae\"],[0.3,\"#f1b6da\"],[0.4,\"#fde0ef\"],[0.5,\"#f7f7f7\"],[0.6,\"#e6f5d0\"],[0.7,\"#b8e186\"],[0.8,\"#7fbc41\"],[0.9,\"#4d9221\"],[1,\"#276419\"]]},\"xaxis\":{\"gridcolor\":\"white\",\"linecolor\":\"white\",\"ticks\":\"\",\"title\":{\"standoff\":15},\"zerolinecolor\":\"white\",\"automargin\":true,\"zerolinewidth\":2},\"yaxis\":{\"gridcolor\":\"white\",\"linecolor\":\"white\",\"ticks\":\"\",\"title\":{\"standoff\":15},\"zerolinecolor\":\"white\",\"automargin\":true,\"zerolinewidth\":2},\"scene\":{\"xaxis\":{\"backgroundcolor\":\"#E5ECF6\",\"gridcolor\":\"white\",\"linecolor\":\"white\",\"showbackground\":true,\"ticks\":\"\",\"zerolinecolor\":\"white\",\"gridwidth\":2},\"yaxis\":{\"backgroundcolor\":\"#E5ECF6\",\"gridcolor\":\"white\",\"linecolor\":\"white\",\"showbackground\":true,\"ticks\":\"\",\"zerolinecolor\":\"white\",\"gridwidth\":2},\"zaxis\":{\"backgroundcolor\":\"#E5ECF6\",\"gridcolor\":\"white\",\"linecolor\":\"white\",\"showbackground\":true,\"ticks\":\"\",\"zerolinecolor\":\"white\",\"gridwidth\":2}},\"shapedefaults\":{\"line\":{\"color\":\"#2a3f5f\"}},\"annotationdefaults\":{\"arrowcolor\":\"#2a3f5f\",\"arrowhead\":0,\"arrowwidth\":1},\"geo\":{\"bgcolor\":\"white\",\"landcolor\":\"#E5ECF6\",\"subunitcolor\":\"white\",\"showland\":true,\"showlakes\":true,\"lakecolor\":\"white\"},\"title\":{\"x\":0.05},\"mapbox\":{\"style\":\"light\"}}},\"xaxis\":{\"anchor\":\"y\",\"domain\":[0.0,1.0],\"title\":{\"text\":\"x\"}},\"yaxis\":{\"anchor\":\"x\",\"domain\":[0.0,1.0],\"title\":{\"text\":\"y\"},\"categoryorder\":\"total ascending\"},\"legend\":{\"tracegroupgap\":0},\"margin\":{\"t\":60},\"barmode\":\"stack\"},                        {\"responsive\": true}                    ).then(function(){\n",
       "                            \n",
       "var gd = document.getElementById('dd40bcb8-25e4-42aa-8c42-baaa5a652a9c');\n",
       "var x = new MutationObserver(function (mutations, observer) {{\n",
       "        var display = window.getComputedStyle(gd).display;\n",
       "        if (!display || display === 'none') {{\n",
       "            console.log([gd, 'removed!']);\n",
       "            Plotly.purge(gd);\n",
       "            observer.disconnect();\n",
       "        }}\n",
       "}});\n",
       "\n",
       "// Listen for the removal of the full notebook cells\n",
       "var notebookContainer = gd.closest('#notebook-container');\n",
       "if (notebookContainer) {{\n",
       "    x.observe(notebookContainer, {childList: true});\n",
       "}}\n",
       "\n",
       "// Listen for the clearing of the current output cell\n",
       "var outputEl = gd.closest('.output');\n",
       "if (outputEl) {{\n",
       "    x.observe(outputEl, {childList: true});\n",
       "}}\n",
       "\n",
       "                        })                };                });            </script>        </div>"
      ]
     },
     "metadata": {},
     "output_type": "display_data"
    }
   ],
   "source": [
    "# top ten words using plotly\n",
    "\n",
    "import plotly.express as pe\n",
    "words, counts = zip(*top_words)\n",
    "fig = pe.bar(y=counts, x=words)\n",
    "fig.update_layout(barmode='stack', yaxis={'categoryorder':'total ascending'})\n",
    "fig.show()"
   ]
  },
  {
   "cell_type": "code",
   "execution_count": null,
   "id": "49b6daa2",
   "metadata": {},
   "outputs": [],
   "source": []
  },
  {
   "cell_type": "code",
   "execution_count": null,
   "id": "cb2cf6b0",
   "metadata": {},
   "outputs": [],
   "source": []
  }
 ],
 "metadata": {
  "kernelspec": {
   "display_name": "Python 3 (ipykernel)",
   "language": "python",
   "name": "python3"
  },
  "language_info": {
   "codemirror_mode": {
    "name": "ipython",
    "version": 3
   },
   "file_extension": ".py",
   "mimetype": "text/x-python",
   "name": "python",
   "nbconvert_exporter": "python",
   "pygments_lexer": "ipython3",
   "version": "3.10.9"
  }
 },
 "nbformat": 4,
 "nbformat_minor": 5
}
